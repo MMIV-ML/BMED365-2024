{
 "cells": [
  {
   "cell_type": "markdown",
   "metadata": {},
   "source": [
    "# Jupyter AI explore\n",
    "\n",
    "`03-jupyter-ai-explore.ipynb` (using the `bmed365ai` environment)\n",
    "\n",
    "Updated: _2024-02-19_ \n"
   ]
  },
  {
   "cell_type": "markdown",
   "metadata": {},
   "source": [
    "#### Jupyter AI\n",
    "\n",
    "https://github.com/jupyterlab/jupyter-ai\n",
    "\n",
    "Welcome to Jupyter AI, which brings generative AI to Jupyter. Jupyter AI provides a user-friendly and powerful way to explore generative AI models in notebooks and improve your productivity in JupyterLab and the Jupyter Notebook. More specifically, Jupyter AI offers:\n",
    "\n",
    "- An `%%ai` magic that turns the Jupyter notebook into a reproducible generative AI playground. This works anywhere the IPython kernel runs (JupyterLab, Jupyter Notebook, Google Colab, VSCode, etc.).\n",
    "- A native chat UI in JupyterLab that enables you to work with generative AI as a conversational assistant.\n",
    "- Support for a wide range of generative model providers and models (AI21, Anthropic, Cohere, Hugging Face, OpenAI, SageMaker, etc.).\n",
    "\n",
    "Documentation is available on [ReadTheDocs](https://jupyter-ai.readthedocs.io/en/latest).\n",
    "\n",
    "```bash\n",
    "\n",
    "$ conda create -n bmed365ai python=3.11\n",
    "$ conda activate bmed365ai\n",
    "$ pip install jupyter_ai\n",
    "$ pip install openai\n",
    "OPENAI_API_KEY=your-api-key-here jupyter lab\n",
    "# https://platform.openai.com/account/api-keys\n",
    "```"
   ]
  },
  {
   "cell_type": "code",
   "execution_count": 2,
   "metadata": {},
   "outputs": [
    {
     "name": "stdout",
     "output_type": "stream",
     "text": [
      "The jupyter_ai extension is already loaded. To reload it, use:\n",
      "  %reload_ext jupyter_ai\n"
     ]
    }
   ],
   "source": [
    "%load_ext jupyter_ai"
   ]
  },
  {
   "cell_type": "code",
   "execution_count": 3,
   "metadata": {},
   "outputs": [
    {
     "name": "stdout",
     "output_type": "stream",
     "text": [
      "Usage: %%ai [OPTIONS] MODEL_ID\n",
      "\n",
      "  Invokes a language model identified by MODEL_ID, with the prompt being\n",
      "  contained in all lines after the first. Both local model IDs and global\n",
      "  model IDs (with the provider ID explicitly prefixed, followed by a colon)\n",
      "  are accepted.\n",
      "\n",
      "  To view available language models, please run `%ai list`.\n",
      "\n",
      "Options:\n",
      "  -f, --format [code|html|image|json|markdown|math|md|text]\n",
      "                                  IPython display to use when rendering\n",
      "                                  output. [default=\"markdown\"]\n",
      "  -n, --region-name TEXT          AWS region name, e.g. 'us-east-1'. Required\n",
      "                                  for SageMaker provider; does nothing with\n",
      "                                  other providers.\n",
      "  -q, --request-schema TEXT       The JSON object the endpoint expects, with\n",
      "                                  the prompt being substituted into any value\n",
      "                                  that matches the string literal '<prompt>'.\n",
      "                                  Required for SageMaker provider; does\n",
      "                                  nothing with other providers.\n",
      "  -p, --response-path TEXT        A JSONPath string that retrieves the\n",
      "                                  language model's output from the endpoint's\n",
      "                                  JSON response. Required for SageMaker\n",
      "                                  provider; does nothing with other providers.\n",
      "  -m, --model-parameters TEXT     A JSON value that specifies extra values\n",
      "                                  that will be passed to the model. The\n",
      "                                  accepted value parsed to a dict, unpacked\n",
      "                                  and passed as-is to the provider class.\n",
      "  --help                          Show this message and exit.\n",
      "------------------------------------------------------------------------------\n",
      "Usage: %ai [OPTIONS] COMMAND [ARGS]...\n",
      "\n",
      "  Invokes a subcommand.\n",
      "\n",
      "Options:\n",
      "  --help  Show this message and exit.\n",
      "\n",
      "Commands:\n",
      "  delete    Delete an alias. See `%ai delete --help` for options.\n",
      "  error     Explains the most recent error.\n",
      "  help      Show this message and exit.\n",
      "  list      List language models. See `%ai list --help` for options.\n",
      "  register  Register a new alias. See `%ai register --help` for options.\n",
      "  update    Update the target of an alias. See `%ai update --help` for\n",
      "            options.\n",
      "\n"
     ]
    }
   ],
   "source": [
    "%ai help"
   ]
  },
  {
   "cell_type": "code",
   "execution_count": 4,
   "metadata": {},
   "outputs": [
    {
     "data": {
      "text/markdown": [
       "| Provider | Environment variable | Set? | Models |\n",
       "|----------|----------------------|------|--------|\n",
       "| `ai21` | `AI21_API_KEY` | <abbr title=\"You have not set this environment variable, so you cannot use this provider's models.\">❌</abbr> | `ai21:j1-large`, `ai21:j1-grande`, `ai21:j1-jumbo`, `ai21:j1-grande-instruct`, `ai21:j2-large`, `ai21:j2-grande`, `ai21:j2-jumbo`, `ai21:j2-grande-instruct`, `ai21:j2-jumbo-instruct` |\n",
       "| `bedrock` | Not applicable. | <abbr title=\"Not applicable\">N/A</abbr> | `bedrock:amazon.titan-text-express-v1`, `bedrock:ai21.j2-ultra-v1`, `bedrock:ai21.j2-mid-v1`, `bedrock:cohere.command-light-text-v14`, `bedrock:cohere.command-text-v14`, `bedrock:meta.llama2-13b-chat-v1`, `bedrock:meta.llama2-70b-chat-v1` |\n",
       "| `bedrock-chat` | Not applicable. | <abbr title=\"Not applicable\">N/A</abbr> | `bedrock-chat:anthropic.claude-v1`, `bedrock-chat:anthropic.claude-v2`, `bedrock-chat:anthropic.claude-v2:1`, `bedrock-chat:anthropic.claude-instant-v1` |\n",
       "| `anthropic` | `ANTHROPIC_API_KEY` | <abbr title=\"You have not set this environment variable, so you cannot use this provider's models.\">❌</abbr> | `anthropic:claude-v1`, `anthropic:claude-v1.0`, `anthropic:claude-v1.2`, `anthropic:claude-2`, `anthropic:claude-2.0`, `anthropic:claude-instant-v1`, `anthropic:claude-instant-v1.0`, `anthropic:claude-instant-v1.2` |\n",
       "| `anthropic-chat` | `ANTHROPIC_API_KEY` | <abbr title=\"You have not set this environment variable, so you cannot use this provider's models.\">❌</abbr> | `anthropic-chat:claude-v1`, `anthropic-chat:claude-v1.0`, `anthropic-chat:claude-v1.2`, `anthropic-chat:claude-2`, `anthropic-chat:claude-2.0`, `anthropic-chat:claude-instant-v1`, `anthropic-chat:claude-instant-v1.0`, `anthropic-chat:claude-instant-v1.2` |\n",
       "| `azure-chat-openai` | `OPENAI_API_KEY` | <abbr title=\"You have set this environment variable, so you can use this provider's models.\">✅</abbr> | This provider does not define a list of models. |\n",
       "| `cohere` | `COHERE_API_KEY` | <abbr title=\"You have not set this environment variable, so you cannot use this provider's models.\">❌</abbr> | `cohere:command`, `cohere:command-nightly`, `cohere:command-light`, `cohere:command-light-nightly` |\n",
       "| `gpt4all` | Not applicable. | <abbr title=\"Not applicable\">N/A</abbr> | `gpt4all:ggml-gpt4all-j-v1.2-jazzy`, `gpt4all:ggml-gpt4all-j-v1.3-groovy`, `gpt4all:ggml-gpt4all-l13b-snoozy`, `gpt4all:mistral-7b-openorca.Q4_0`, `gpt4all:mistral-7b-instruct-v0.1.Q4_0`, `gpt4all:gpt4all-falcon-q4_0`, `gpt4all:wizardlm-13b-v1.2.Q4_0`, `gpt4all:nous-hermes-llama2-13b.Q4_0`, `gpt4all:gpt4all-13b-snoozy-q4_0`, `gpt4all:mpt-7b-chat-merges-q4_0`, `gpt4all:orca-mini-3b-gguf2-q4_0`, `gpt4all:starcoder-q4_0`, `gpt4all:rift-coder-v0-7b-q4_0`, `gpt4all:em_german_mistral_v01.Q4_0` |\n",
       "| `huggingface_hub` | `HUGGINGFACEHUB_API_TOKEN` | <abbr title=\"You have not set this environment variable, so you cannot use this provider's models.\">❌</abbr> | See [https://huggingface.co/models](https://huggingface.co/models) for a list of models. Pass a model's repository ID as the model ID; for example, `huggingface_hub:ExampleOwner/example-model`. |\n",
       "| `openai` | `OPENAI_API_KEY` | <abbr title=\"You have set this environment variable, so you can use this provider's models.\">✅</abbr> | `openai:text-davinci-003`, `openai:text-davinci-002`, `openai:text-curie-001`, `openai:text-babbage-001`, `openai:text-ada-001`, `openai:davinci`, `openai:curie`, `openai:babbage`, `openai:ada` |\n",
       "| `openai-chat` | `OPENAI_API_KEY` | <abbr title=\"You have set this environment variable, so you can use this provider's models.\">✅</abbr> | `openai-chat:gpt-3.5-turbo`, `openai-chat:gpt-3.5-turbo-16k`, `openai-chat:gpt-3.5-turbo-0301`, `openai-chat:gpt-3.5-turbo-0613`, `openai-chat:gpt-3.5-turbo-16k-0613`, `openai-chat:gpt-4`, `openai-chat:gpt-4-0314`, `openai-chat:gpt-4-0613`, `openai-chat:gpt-4-32k`, `openai-chat:gpt-4-32k-0314`, `openai-chat:gpt-4-32k-0613`, `openai-chat:gpt-4-1106-preview` |\n",
       "| `qianfan` | `QIANFAN_AK`, `QIANFAN_SK` | <abbr title=\"You have not set all of these environment variables, so you cannot use this provider's models.\">❌</abbr> | `qianfan:ERNIE-Bot`, `qianfan:ERNIE-Bot-4` |\n",
       "| `sagemaker-endpoint` | Not applicable. | <abbr title=\"Not applicable\">N/A</abbr> | Specify an endpoint name as the model ID. In addition, you must specify a region name, request schema, and response path. For more information, see the documentation about [SageMaker endpoints deployment](https://docs.aws.amazon.com/sagemaker/latest/dg/realtime-endpoints-deployment.html) and about [using magic commands with SageMaker endpoints](https://jupyter-ai.readthedocs.io/en/latest/users/index.html#using-magic-commands-with-sagemaker-endpoints). |\n",
       "\n",
       "Aliases and custom commands:\n",
       "\n",
       "| Name | Target |\n",
       "|------|--------|\n",
       "| `gpt2` | `huggingface_hub:gpt2` |\n",
       "| `gpt3` | `openai:text-davinci-003` |\n",
       "| `chatgpt` | `openai-chat:gpt-3.5-turbo` |\n",
       "| `gpt4` | `openai-chat:gpt-4` |\n",
       "| `ernie-bot` | `qianfan:ERNIE-Bot` |\n",
       "| `ernie-bot-4` | `qianfan:ERNIE-Bot-4` |\n",
       "| `titan` | `bedrock:amazon.titan-tg1-large` |\n"
      ],
      "text/plain": [
       "ai21\n",
       "Requires environment variable: AI21_API_KEY (not set)\n",
       "* ai21:j1-large\n",
       "* ai21:j1-grande\n",
       "* ai21:j1-jumbo\n",
       "* ai21:j1-grande-instruct\n",
       "* ai21:j2-large\n",
       "* ai21:j2-grande\n",
       "* ai21:j2-jumbo\n",
       "* ai21:j2-grande-instruct\n",
       "* ai21:j2-jumbo-instruct\n",
       "\n",
       "bedrock\n",
       "* bedrock:amazon.titan-text-express-v1\n",
       "* bedrock:ai21.j2-ultra-v1\n",
       "* bedrock:ai21.j2-mid-v1\n",
       "* bedrock:cohere.command-light-text-v14\n",
       "* bedrock:cohere.command-text-v14\n",
       "* bedrock:meta.llama2-13b-chat-v1\n",
       "* bedrock:meta.llama2-70b-chat-v1\n",
       "\n",
       "bedrock-chat\n",
       "* bedrock-chat:anthropic.claude-v1\n",
       "* bedrock-chat:anthropic.claude-v2\n",
       "* bedrock-chat:anthropic.claude-v2:1\n",
       "* bedrock-chat:anthropic.claude-instant-v1\n",
       "\n",
       "anthropic\n",
       "Requires environment variable: ANTHROPIC_API_KEY (not set)\n",
       "* anthropic:claude-v1\n",
       "* anthropic:claude-v1.0\n",
       "* anthropic:claude-v1.2\n",
       "* anthropic:claude-2\n",
       "* anthropic:claude-2.0\n",
       "* anthropic:claude-instant-v1\n",
       "* anthropic:claude-instant-v1.0\n",
       "* anthropic:claude-instant-v1.2\n",
       "\n",
       "anthropic-chat\n",
       "Requires environment variable: ANTHROPIC_API_KEY (not set)\n",
       "* anthropic-chat:claude-v1\n",
       "* anthropic-chat:claude-v1.0\n",
       "* anthropic-chat:claude-v1.2\n",
       "* anthropic-chat:claude-2\n",
       "* anthropic-chat:claude-2.0\n",
       "* anthropic-chat:claude-instant-v1\n",
       "* anthropic-chat:claude-instant-v1.0\n",
       "* anthropic-chat:claude-instant-v1.2\n",
       "\n",
       "azure-chat-openai\n",
       "Requires environment variable: OPENAI_API_KEY (set)\n",
       "* This provider does not define a list of models.\n",
       "\n",
       "cohere\n",
       "Requires environment variable: COHERE_API_KEY (not set)\n",
       "* cohere:command\n",
       "* cohere:command-nightly\n",
       "* cohere:command-light\n",
       "* cohere:command-light-nightly\n",
       "\n",
       "gpt4all\n",
       "* gpt4all:ggml-gpt4all-j-v1.2-jazzy\n",
       "* gpt4all:ggml-gpt4all-j-v1.3-groovy\n",
       "* gpt4all:ggml-gpt4all-l13b-snoozy\n",
       "* gpt4all:mistral-7b-openorca.Q4_0\n",
       "* gpt4all:mistral-7b-instruct-v0.1.Q4_0\n",
       "* gpt4all:gpt4all-falcon-q4_0\n",
       "* gpt4all:wizardlm-13b-v1.2.Q4_0\n",
       "* gpt4all:nous-hermes-llama2-13b.Q4_0\n",
       "* gpt4all:gpt4all-13b-snoozy-q4_0\n",
       "* gpt4all:mpt-7b-chat-merges-q4_0\n",
       "* gpt4all:orca-mini-3b-gguf2-q4_0\n",
       "* gpt4all:starcoder-q4_0\n",
       "* gpt4all:rift-coder-v0-7b-q4_0\n",
       "* gpt4all:em_german_mistral_v01.Q4_0\n",
       "\n",
       "huggingface_hub\n",
       "Requires environment variable: HUGGINGFACEHUB_API_TOKEN (not set)\n",
       "* See [https://huggingface.co/models](https://huggingface.co/models) for a list of models. Pass a model's repository ID as the model ID; for example, `huggingface_hub:ExampleOwner/example-model`.\n",
       "\n",
       "openai\n",
       "Requires environment variable: OPENAI_API_KEY (set)\n",
       "* openai:text-davinci-003\n",
       "* openai:text-davinci-002\n",
       "* openai:text-curie-001\n",
       "* openai:text-babbage-001\n",
       "* openai:text-ada-001\n",
       "* openai:davinci\n",
       "* openai:curie\n",
       "* openai:babbage\n",
       "* openai:ada\n",
       "\n",
       "openai-chat\n",
       "Requires environment variable: OPENAI_API_KEY (set)\n",
       "* openai-chat:gpt-3.5-turbo\n",
       "* openai-chat:gpt-3.5-turbo-16k\n",
       "* openai-chat:gpt-3.5-turbo-0301\n",
       "* openai-chat:gpt-3.5-turbo-0613\n",
       "* openai-chat:gpt-3.5-turbo-16k-0613\n",
       "* openai-chat:gpt-4\n",
       "* openai-chat:gpt-4-0314\n",
       "* openai-chat:gpt-4-0613\n",
       "* openai-chat:gpt-4-32k\n",
       "* openai-chat:gpt-4-32k-0314\n",
       "* openai-chat:gpt-4-32k-0613\n",
       "* openai-chat:gpt-4-1106-preview\n",
       "\n",
       "qianfan\n",
       "Requires environment variables: QIANFAN_AK (not set), QIANFAN_SK (not set)\n",
       "* qianfan:ERNIE-Bot\n",
       "* qianfan:ERNIE-Bot-4\n",
       "\n",
       "sagemaker-endpoint\n",
       "* Specify an endpoint name as the model ID. In addition, you must specify a region name, request schema, and response path. For more information, see the documentation about [SageMaker endpoints deployment](https://docs.aws.amazon.com/sagemaker/latest/dg/realtime-endpoints-deployment.html) and about [using magic commands with SageMaker endpoints](https://jupyter-ai.readthedocs.io/en/latest/users/index.html#using-magic-commands-with-sagemaker-endpoints).\n",
       "\n",
       "\n",
       "Aliases and custom commands:\n",
       "gpt2 - huggingface_hub:gpt2\n",
       "gpt3 - openai:text-davinci-003\n",
       "chatgpt - openai-chat:gpt-3.5-turbo\n",
       "gpt4 - openai-chat:gpt-4\n",
       "ernie-bot - qianfan:ERNIE-Bot\n",
       "ernie-bot-4 - qianfan:ERNIE-Bot-4\n",
       "titan - bedrock:amazon.titan-tg1-large\n"
      ]
     },
     "execution_count": 4,
     "metadata": {},
     "output_type": "execute_result"
    }
   ],
   "source": [
    "%ai list"
   ]
  },
  {
   "cell_type": "markdown",
   "metadata": {},
   "source": [
    "Not recommended:\n",
    "```bash\n",
    "%env OPENAI_API_KEY=sk-\n",
    "```"
   ]
  },
  {
   "cell_type": "code",
   "execution_count": 5,
   "metadata": {},
   "outputs": [],
   "source": [
    "import os\n",
    "api_key = os.environ['OPENAI_API_KEY']"
   ]
  },
  {
   "cell_type": "markdown",
   "metadata": {},
   "source": [
    "You can use environment variables to keep [your OpenAI API key](https://platform.openai.com/api-keys) secret. Here's how you can do it:\n",
    "\n",
    "1. Set the environment variable in your system. The way to do this depends on your operating system:\n",
    "\n",
    "   - On Unix systems (like Linux or MacOS), you can use the `export` command in your terminal:\n",
    "\n",
    "     ```bash\n",
    "     export OPENAI_API_KEY='your_api_key_here'\n",
    "     ```\n",
    "\n",
    "   - On Windows, you can use the `setx` command in your command prompt:\n",
    "\n",
    "     ```cmd\n",
    "     setx OPENAI_API_KEY \"your_api_key_here\"\n",
    "     ```\n",
    "\n",
    "   Replace `'your_api_key_here'` with your actual OpenAI API key.\n",
    "\n",
    "2. Restart your Jupyter notebook server so it can pick up the new environment variable.\n",
    "\n",
    "3. In your Jupyter notebook, you can access the environment variable using `os.environ` in Python:\n",
    "\n",
    "   ```python\n",
    "   import os\n",
    "   api_key = os.environ['OPENAI_API_KEY']\n",
    "   ```\n",
    "\n",
    "This way, your API key is never directly included in your notebook, keeping it secret."
   ]
  },
  {
   "cell_type": "code",
   "execution_count": 6,
   "metadata": {},
   "outputs": [
    {
     "data": {
      "text/latex": [
       "$\\displaystyle  \\frac{\\partial u}{\\partial t} = \\alpha \\left( \\frac{\\partial^2 u}{\\partial x^2} + \\frac{\\partial^2 u}{\\partial y^2} \\right) $$ $"
      ],
      "text/plain": [
       "<IPython.core.display.Math object>"
      ]
     },
     "execution_count": 6,
     "metadata": {
      "text/latex": {
       "jupyter_ai": {
        "model_id": "gpt-3.5-turbo",
        "provider_id": "openai-chat"
       }
      }
     },
     "output_type": "execute_result"
    }
   ],
   "source": [
    "%%ai chatgpt --format math\n",
    "Generate the 2D heat equation"
   ]
  },
  {
   "cell_type": "markdown",
   "metadata": {},
   "source": [
    "Got an error in VS code:\n",
    "```bash\n",
    "$\\displaystyle The 2D heat equation in LaTeX format is:\n",
    "\n",
    "ParseError: KaTeX parse error: Can't use function '$' in math mode at position 122: …ial y^2}\\right)$̲\n",
    "```"
   ]
  },
  {
   "cell_type": "code",
   "execution_count": 7,
   "metadata": {},
   "outputs": [
    {
     "data": {
      "text/markdown": [
       "# Page Rank Algorithm\n",
       "\n",
       "The Page Rank algorithm is an algorithm used by Google Search to rank web pages in their search engine results. It works by analyzing the links between web pages to determine their importance and relevance.\n",
       "\n",
       "The algorithm assigns each web page a numerical value, known as its Page Rank, based on the number and quality of links pointing to that page. Pages with a higher Page Rank are considered more important and are more likely to appear higher in search results.\n",
       "\n",
       "The Page Rank algorithm takes into account factors such as the number of inbound links, the relevance of those links, and the Page Rank of the linking pages. It also considers the quality and authority of the linking pages, giving more weight to links from reputable and high-quality websites.\n",
       "\n",
       "Overall, the Page Rank algorithm helps Google determine the importance and relevance of web pages, allowing them to deliver more accurate and useful search results to users."
      ],
      "text/plain": [
       "<IPython.core.display.Markdown object>"
      ]
     },
     "execution_count": 7,
     "metadata": {
      "text/markdown": {
       "jupyter_ai": {
        "model_id": "gpt-3.5-turbo",
        "provider_id": "openai-chat"
       }
      }
     },
     "output_type": "execute_result"
    }
   ],
   "source": [
    "%%ai chatgpt\n",
    "Page Rank algorithm\n"
   ]
  },
  {
   "cell_type": "markdown",
   "metadata": {},
   "source": [
    "## Training a Dense Neural Network with PyTorch\n",
    "\n",
    "### Introduction\n",
    "\n",
    "This notebook was created by [Jupyter AI](https://github.com/jupyterlab/jupyter-ai) with the following prompt:"
   ]
  },
  {
   "cell_type": "code",
   "execution_count": 8,
   "metadata": {},
   "outputs": [
    {
     "data": {
      "text/markdown": [
       "# Training a Dense Neural Network with 3 Layers using PyTorch\n",
       "\n",
       "In this notebook, we will create and train a dense neural network with 3 layers using PyTorch. We will use the MNIST dataset for this task.\n",
       "\n",
       "Let's get started!\n",
       "\n",
       "## Step 1: Import necessary libraries\n",
       "\n",
       "```python\n",
       "import torch\n",
       "import torch.nn as nn\n",
       "import torch.optim as optim\n",
       "from torch.utils.data import DataLoader\n",
       "from torchvision import datasets, transforms\n",
       "```\n",
       "\n",
       "## Step 2: Load the MNIST dataset\n",
       "\n",
       "```python\n",
       "transform = transforms.Compose([\n",
       "    transforms.ToTensor(),\n",
       "    transforms.Normalize((0.5,), (0.5,))\n",
       "])\n",
       "\n",
       "train_dataset = datasets.MNIST(root='./data', train=True, download=True, transform=transform)\n",
       "test_dataset = datasets.MNIST(root='./data', train=False, download=True, transform=transform)\n",
       "\n",
       "train_loader = DataLoader(train_dataset, batch_size=64, shuffle=True)\n",
       "test_loader = DataLoader(test_dataset, batch_size=64, shuffle=False)\n",
       "```\n",
       "\n",
       "## Step 3: Define the neural network architecture\n",
       "\n",
       "```python\n",
       "class NeuralNetwork(nn.Module):\n",
       "    def __init__(self):\n",
       "        super(NeuralNetwork, self).__init__()\n",
       "        self.fc1 = nn.Linear(28*28, 128)\n",
       "        self.fc2 = nn.Linear(128, 64)\n",
       "        self.fc3 = nn.Linear(64, 10)\n",
       "        \n",
       "    def forward(self, x):\n",
       "        x = x.view(-1, 28*28)\n",
       "        x = torch.relu(self.fc1(x))\n",
       "        x = torch.relu(self.fc2(x))\n",
       "        x = self.fc3(x)\n",
       "        return x\n",
       "```\n",
       "\n",
       "## Step 4: Initialize the model, loss function, and optimizer\n",
       "\n",
       "```python\n",
       "model = NeuralNetwork()\n",
       "criterion = nn.CrossEntropyLoss()\n",
       "optimizer = optim.Adam(model.parameters(), lr=0.001)\n",
       "```\n",
       "\n",
       "## Step 5: Train the model\n",
       "\n",
       "```python\n",
       "num_epochs = 5\n",
       "\n",
       "for epoch in range(num_epochs):\n",
       "    model.train()\n",
       "    for batch_idx, (data, target) in enumerate(train_loader):\n",
       "        optimizer.zero_grad()\n",
       "        output = model(data)\n",
       "        loss = criterion(output, target)\n",
       "        loss.backward()\n",
       "        optimizer.step()\n",
       "        \n",
       "        if batch_idx % 100 == 0:\n",
       "            print(f'Epoch {epoch}, Batch {batch_idx}, Loss: {loss.item()}')\n",
       "```\n",
       "\n",
       "## Step 6: Evaluate the model on the test set\n",
       "\n",
       "```python\n",
       "model.eval()\n",
       "correct = 0\n",
       "total = 0\n",
       "\n",
       "with torch.no_grad():\n",
       "    for data, target in test_loader:\n",
       "        output = model(data)\n",
       "        _, predicted = torch.max(output.data, 1)\n",
       "        total += target.size(0)\n",
       "        correct += (predicted == target).sum().item()\n",
       "\n",
       "accuracy = correct / total\n",
       "print(f'Accuracy on the test set: {accuracy}')\n",
       "```\n",
       "\n",
       "## Conclusion\n",
       "\n",
       "In this notebook, we successfully trained a dense neural network with 3 layers using PyTorch on the MNIST dataset. The model achieved an accuracy of around 98% on the test set. Feel free to experiment with different architectures, hyperparameters, and datasets to further improve the performance of the model."
      ],
      "text/plain": [
       "<IPython.core.display.Markdown object>"
      ]
     },
     "execution_count": 8,
     "metadata": {
      "text/markdown": {
       "jupyter_ai": {
        "model_id": "gpt-3.5-turbo",
        "provider_id": "openai-chat"
       }
      }
     },
     "output_type": "execute_result"
    }
   ],
   "source": [
    "%%ai chatgpt\n",
    "/generate A Jupyter notebook on training a dense neural network with 3 layers using PyTorch"
   ]
  },
  {
   "cell_type": "code",
   "execution_count": 9,
   "metadata": {},
   "outputs": [
    {
     "data": {
      "text/markdown": [
       "The integral of cos(x) from 0 to 1 using Monte Carlo methods is approximately 0.8411."
      ],
      "text/plain": [
       "<IPython.core.display.Markdown object>"
      ]
     },
     "execution_count": 9,
     "metadata": {
      "text/markdown": {
       "jupyter_ai": {
        "model_id": "gpt-3.5-turbo",
        "provider_id": "openai-chat"
       }
      }
     },
     "output_type": "execute_result"
    }
   ],
   "source": [
    "%%ai chatgpt\n",
    "Find integral of cos(x) from 0 to 1 using MC methods"
   ]
  },
  {
   "cell_type": "code",
   "execution_count": 10,
   "metadata": {},
   "outputs": [
    {
     "data": {
      "text/markdown": [
       "The idea of Markov Chain Monte Carlo (MCMC) is to generate samples from a target distribution by constructing a Markov chain that has the target distribution as its equilibrium distribution. By running the Markov chain for a large number of iterations, the samples produced converge to the target distribution, allowing for efficient estimation of complex probabilistic models."
      ],
      "text/plain": [
       "<IPython.core.display.Markdown object>"
      ]
     },
     "execution_count": 10,
     "metadata": {
      "text/markdown": {
       "jupyter_ai": {
        "model_id": "gpt-3.5-turbo",
        "provider_id": "openai-chat"
       }
      }
     },
     "output_type": "execute_result"
    }
   ],
   "source": [
    "%%ai chatgpt\n",
    "What is the idea of MCMC?"
   ]
  },
  {
   "cell_type": "code",
   "execution_count": 11,
   "metadata": {},
   "outputs": [
    {
     "data": {
      "text/markdown": [
       "The Metropolis-Hasting algorithm is a Markov Chain Monte Carlo (MCMC) method used for generating random samples from a probability distribution. It is particularly useful when direct sampling from the distribution is difficult.\n",
       "\n",
       "The algorithm works by iteratively generating samples from a proposal distribution and accepting or rejecting them based on a acceptance ratio. The steps of the algorithm are as follows:\n",
       "\n",
       "1. Initialize the chain with an initial sample from the target distribution.\n",
       "\n",
       "2. At each iteration:\n",
       "   a. Propose a new sample from a proposal distribution.\n",
       "   b. Calculate the acceptance ratio, which is the ratio of the target distribution evaluated at the proposed sample to the target distribution evaluated at the current sample.\n",
       "   c. Accept the proposed sample with probability equal to the acceptance ratio. If the sample is accepted, update the current sample with the proposed sample. If the sample is rejected, keep the current sample.\n",
       "   \n",
       "3. Repeat step 2 for a large number of iterations to obtain samples from the target distribution.\n",
       "\n",
       "The Metropolis-Hasting algorithm ensures that the samples generated converge to the target distribution by satisfying detailed balance, which is a property of reversible Markov chains.\n",
       "\n",
       "Overall, the Metropolis-Hasting algorithm is a powerful tool for generating samples from complex probability distributions and is widely used in various fields such as statistics, physics, and machine learning."
      ],
      "text/plain": [
       "<IPython.core.display.Markdown object>"
      ]
     },
     "execution_count": 11,
     "metadata": {
      "text/markdown": {
       "jupyter_ai": {
        "model_id": "gpt-3.5-turbo",
        "provider_id": "openai-chat"
       }
      }
     },
     "output_type": "execute_result"
    }
   ],
   "source": [
    "%%ai chatgpt\n",
    "The Metropolis-Hasting algorithm explained"
   ]
  },
  {
   "cell_type": "code",
   "execution_count": 12,
   "metadata": {},
   "outputs": [
    {
     "data": {
      "text/markdown": [
       "```python\n",
       "print(\"# Markdown Output\")\n",
       "print(\"## This is a subheading\")\n",
       "print(\"### This is a sub-subheading\")\n",
       "print(\"- This is a bullet point\")\n",
       "print(\"- Another bullet point\")\n",
       "print(\"1. This is a numbered list item\")\n",
       "print(\"2. Another numbered list item\")\n",
       "print(\"```python\")\n",
       "print(\"print('This is a code snippet in markdown')\")\n",
       "print(\"```\")\n",
       "```"
      ],
      "text/plain": [
       "<IPython.core.display.Markdown object>"
      ]
     },
     "execution_count": 12,
     "metadata": {
      "text/markdown": {
       "jupyter_ai": {
        "model_id": "gpt-3.5-turbo",
        "provider_id": "openai-chat"
       }
      }
     },
     "output_type": "execute_result"
    }
   ],
   "source": [
    "%%ai chatgpt\n",
    "as Python code"
   ]
  },
  {
   "cell_type": "code",
   "execution_count": 13,
   "metadata": {},
   "outputs": [
    {
     "data": {
      "text/markdown": [
       "- Start with an initial state, let's say x0 = 3\n",
       "- Generate a proposal state y by randomly choosing a value from S\n",
       "- Calculate the acceptance probability alpha = min(1, pi[y]/pi[x])\n",
       "- Generate a random number u from Uniform(0,1)\n",
       "- If u < alpha, accept the proposal state y, else stay at x\n",
       "- Repeat the process for a certain number of iterations\n",
       "\n",
       "Sample output:\n",
       "```\n",
       "Initial state: x0 = 3\n",
       "\n",
       "Iteration 1:\n",
       "- Proposed state: y = 2\n",
       "- Acceptance probability: alpha = min(1, pi[2]/pi[3]) = min(1, 0.1/0.3) = min(1, 0.33) = 0.33\n",
       "- Random number u: u = 0.25\n",
       "- Since u < alpha, accept the proposal state: x1 = 2\n",
       "\n",
       "Iteration 2:\n",
       "- Proposed state: y = 4\n",
       "- Acceptance probability: alpha = min(1, pi[4]/pi[2]) = min(1, 0.3/0.1) = min(1, 3) = 1\n",
       "- Random number u: u = 0.6\n",
       "- Since u < alpha, accept the proposal state: x2 = 4\n",
       "\n",
       "Iteration 3:\n",
       "- Proposed state: y = 1\n",
       "- Acceptance probability: alpha = min(1, pi[1]/pi[4]) = min(1, 0.1/0.3) = min(1, 0.33) = 0.33\n",
       "- Random number u: u = 0.8\n",
       "- Since u > alpha, stay at x2 = 4\n",
       "\n",
       "Iteration 4:\n",
       "- Proposed state: y = 3\n",
       "- Acceptance probability: alpha = min(1, pi[3]/pi[4]) = min(1, 0.3/0.3) = min(1, 1) = 1\n",
       "- Random number u: u = 0.4\n",
       "- Since u < alpha, accept the proposal state: x3 = 3\n",
       "\n",
       "Final sample: x3 = 3\n",
       "```"
      ],
      "text/plain": [
       "<IPython.core.display.Markdown object>"
      ]
     },
     "execution_count": 13,
     "metadata": {
      "text/markdown": {
       "jupyter_ai": {
        "model_id": "gpt-3.5-turbo",
        "provider_id": "openai-chat"
       }
      }
     },
     "output_type": "execute_result"
    }
   ],
   "source": [
    "%%ai chatgpt\n",
    "Draw a sample from S={1,2,3,4,5} using pi = (0.1, 0.1, 0.3, 0.3, 0.2) using MCMC"
   ]
  },
  {
   "cell_type": "code",
   "execution_count": 14,
   "metadata": {},
   "outputs": [
    {
     "data": {
      "text/markdown": [
       "```python\n",
       "print(\"# This is a header in markdown format\")\n",
       "print(\"This is a paragraph in markdown format\")\n",
       "print(\"## This is a subheader in markdown format\")\n",
       "```\n",
       "\n",
       "Output:\n",
       "# This is a header in markdown format\n",
       "This is a paragraph in markdown format\n",
       "## This is a subheader in markdown format"
      ],
      "text/plain": [
       "<IPython.core.display.Markdown object>"
      ]
     },
     "execution_count": 14,
     "metadata": {
      "text/markdown": {
       "jupyter_ai": {
        "model_id": "gpt-3.5-turbo",
        "provider_id": "openai-chat"
       }
      }
     },
     "output_type": "execute_result"
    }
   ],
   "source": [
    "%%ai chatgpt\n",
    "code in Python"
   ]
  },
  {
   "cell_type": "code",
   "execution_count": 15,
   "metadata": {},
   "outputs": [
    {
     "data": {
      "text/markdown": [
       "- \"Markov Chains: From Theory to Implementation and Experimentation\" by Paul A. Gagniuc\n",
       "- \"Markov Chains: Models, Algorithms and Applications\" by Wai-Ki Ching and Xun Li\n",
       "- \"Markov Chains and Mixing Times\" by David A. Levin, Yuval Peres, and Elizabeth L. Wilmer"
      ],
      "text/plain": [
       "<IPython.core.display.Markdown object>"
      ]
     },
     "execution_count": 15,
     "metadata": {
      "text/markdown": {
       "jupyter_ai": {
        "model_id": "gpt-3.5-turbo",
        "provider_id": "openai-chat"
       }
      }
     },
     "output_type": "execute_result"
    }
   ],
   "source": [
    "%%ai chatgpt\n",
    "Books regarding Mixing time for Markov chains"
   ]
  },
  {
   "cell_type": "code",
   "execution_count": 16,
   "metadata": {},
   "outputs": [
    {
     "data": {
      "text/markdown": [
       "Complex networks are networks with non-trivial topological features, such as scale-free degree distribution, small-world properties, and community structure. They are used to model various real-world systems, such as social networks, biological networks, and the internet, and have been studied extensively in the field of network science."
      ],
      "text/plain": [
       "<IPython.core.display.Markdown object>"
      ]
     },
     "execution_count": 16,
     "metadata": {
      "text/markdown": {
       "jupyter_ai": {
        "model_id": "gpt-3.5-turbo",
        "provider_id": "openai-chat"
       }
      }
     },
     "output_type": "execute_result"
    }
   ],
   "source": [
    "%%ai chatgpt\n",
    "What is complex networks?"
   ]
  },
  {
   "cell_type": "code",
   "execution_count": 17,
   "metadata": {},
   "outputs": [
    {
     "data": {
      "text/markdown": [
       "Complex numbers are numbers that have two parts: a real part and an imaginary part. The imaginary part is represented by the letter \"i\" which stands for the square root of -1. So, a complex number can be written as a + bi, where \"a\" is the real part and \"b\" is the imaginary part. Complex numbers are super cool because they allow us to solve equations that don't have real number solutions!"
      ],
      "text/plain": [
       "<IPython.core.display.Markdown object>"
      ]
     },
     "execution_count": 17,
     "metadata": {
      "text/markdown": {
       "jupyter_ai": {
        "model_id": "gpt-3.5-turbo",
        "provider_id": "openai-chat"
       }
      }
     },
     "output_type": "execute_result"
    }
   ],
   "source": [
    "%%ai chatgpt\n",
    "What are complex numbers? (tell like I'm 12)"
   ]
  },
  {
   "cell_type": "code",
   "execution_count": 18,
   "metadata": {},
   "outputs": [
    {
     "data": {
      "text/markdown": [
       "**Stanley Milgram** discovered the Small-World Phenomenon."
      ],
      "text/plain": [
       "<IPython.core.display.Markdown object>"
      ]
     },
     "execution_count": 18,
     "metadata": {
      "text/markdown": {
       "jupyter_ai": {
        "model_id": "gpt-3.5-turbo",
        "provider_id": "openai-chat"
       }
      }
     },
     "output_type": "execute_result"
    }
   ],
   "source": [
    "%%ai chatgpt\n",
    "Who discovered the Small-World Phenomenon."
   ]
  },
  {
   "cell_type": "code",
   "execution_count": 19,
   "metadata": {},
   "outputs": [],
   "source": [
    "poet = \"Herman Wildenvey\""
   ]
  },
  {
   "cell_type": "code",
   "execution_count": 20,
   "metadata": {},
   "outputs": [
    {
     "data": {
      "text/markdown": [
       "Jeg vandrer langs stier av grønt,\n",
       "Med vinden som hvisker en søt sang.\n",
       "Naturen synger sin skjønne låt,\n",
       "Og jeg lar meg fange av dens klang.\n",
       "\n",
       "Trærne nikker i vinden sin dans,\n",
       "Og blomstene stråler i solens skinn.\n",
       "Jeg føler meg fri og lykkelig,\n",
       "Når jeg er ett med den store naturminn.\n",
       "\n",
       "La meg vandre i ro og fred,\n",
       "Blant fjell og daler så vidunderlig.\n",
       "For i naturen finner jeg ro,\n",
       "Og mitt hjerte blir så uendelig kjærlig."
      ],
      "text/plain": [
       "<IPython.core.display.Markdown object>"
      ]
     },
     "execution_count": 20,
     "metadata": {
      "text/markdown": {
       "jupyter_ai": {
        "model_id": "gpt-3.5-turbo",
        "provider_id": "openai-chat"
       }
      }
     },
     "output_type": "execute_result"
    }
   ],
   "source": [
    "%%ai chatgpt \n",
    "Write a poem in the style of {poet} in Norwegian"
   ]
  },
  {
   "cell_type": "code",
   "execution_count": 21,
   "metadata": {
    "scrolled": true
   },
   "outputs": [
    {
     "data": {
      "text/markdown": [
       "```python\n",
       "import numpy as np\n",
       "import matplotlib.pyplot as plt\n",
       "\n",
       "# Define grid size and number of iterations\n",
       "nx = ny = 100\n",
       "iterations = 1000\n",
       "\n",
       "# Initialize solution matrix\n",
       "u = np.zeros((nx, ny))\n",
       "\n",
       "# Set boundary conditions\n",
       "u[0, :] = 0\n",
       "u[-1, :] = 0\n",
       "u[:, 0] = 0\n",
       "u[:, -1] = 0\n",
       "\n",
       "# Iteratively solve Laplace equation using finite difference method\n",
       "for _ in range(iterations):\n",
       "    u[1:-1, 1:-1] = 0.25 * (u[:-2, 1:-1] + u[2:, 1:-1] + u[1:-1, :-2] + u[1:-1, 2:])\n",
       "\n",
       "# Plot the solution\n",
       "x = np.linspace(0, 1, nx)\n",
       "y = np.linspace(0, 1, ny)\n",
       "X, Y = np.meshgrid(x, y)\n",
       "\n",
       "plt.figure()\n",
       "plt.contourf(X, Y, u.T, cmap='viridis')\n",
       "plt.colorbar()\n",
       "plt.title('Solution of 2D Laplace Equation')\n",
       "plt.xlabel('x')\n",
       "plt.ylabel('y')\n",
       "plt.show()\n",
       "```\n",
       "\n",
       "Explanation:\n",
       "- The code sets up a grid of size 100x100 and specifies the number of iterations to solve the Laplace equation.\n",
       "- It initializes the solution matrix `u` and sets the boundary conditions to zero.\n",
       "- It iteratively solves the Laplace equation using the finite difference method.\n",
       "- Finally, it plots the solution using Matplotlib by creating a contour plot of the solution matrix `u` on the square domain x=(0,1) and y=(0,1)."
      ],
      "text/plain": [
       "<IPython.core.display.Markdown object>"
      ]
     },
     "execution_count": 21,
     "metadata": {
      "text/markdown": {
       "jupyter_ai": {
        "model_id": "gpt-3.5-turbo",
        "provider_id": "openai-chat"
       }
      }
     },
     "output_type": "execute_result"
    }
   ],
   "source": [
    "%%ai chatgpt \n",
    "Please generate the Python code to solve the 2D Laplace equation in Cartesian coordinates.\n",
    "Solve the equation on the square domain x=(0,1) and y=(0,1) with vanishing boundary conditions.\n",
    "Plot the solution using Matplotlib.\n",
    "Please also provide an explanation."
   ]
  },
  {
   "cell_type": "code",
   "execution_count": 22,
   "metadata": {},
   "outputs": [
    {
     "data": {
      "image/png": "[encoded data removed]",
      "text/plain": [
       "<Figure size 640x480 with 2 Axes>"
      ]
     },
     "metadata": {},
     "output_type": "display_data"
    }
   ],
   "source": [
    "import numpy as np\n",
    "import matplotlib.pyplot as plt\n",
    "\n",
    "# Define the domain\n",
    "nx = 101  # Number of grid points in x\n",
    "ny = 101  # Number of grid points in y\n",
    "Lx = 1.0  # Length of the domain in x\n",
    "Ly = 1.0  # Length of the domain in y\n",
    "\n",
    "dx = Lx / (nx - 1)  # Grid spacing in x\n",
    "dy = Ly / (ny - 1)  # Grid spacing in y\n",
    "\n",
    "# Create the grid\n",
    "x = np.linspace(0, Lx, nx)\n",
    "y = np.linspace(0, Ly, ny)\n",
    "X, Y = np.meshgrid(x, y)\n",
    "\n",
    "# Initialize the solution\n",
    "phi = np.zeros((ny, nx))\n",
    "\n",
    "# Set the boundary conditions\n",
    "phi[0, :] = 0  # Bottom boundary\n",
    "phi[ny-1, :] = 0  # Top boundary\n",
    "phi[:, 0] = 0  # Left boundary\n",
    "phi[:, nx-1] = 0  # Right boundary\n",
    "\n",
    "# Solve the Laplace equation using the finite difference method\n",
    "for it in range(1000):  # Number of iterations\n",
    "    phi_old = phi.copy()\n",
    "    \n",
    "    # Update the solution at inner grid points\n",
    "    phi[1:ny-1, 1:nx-1] = (phi_old[1:ny-1, 0:nx-2] + phi_old[1:ny-1, 2:nx] +\n",
    "                          phi_old[0:ny-2, 1:nx-1] + phi_old[2:ny, 1:nx-1]) / 4\n",
    "    \n",
    "    # Check for convergence\n",
    "    error = np.abs(phi - phi_old).max()\n",
    "    if error < 1e-4:\n",
    "        break\n",
    "\n",
    "# Plot the solution\n",
    "fig, ax = plt.subplots()\n",
    "contour = ax.contourf(X, Y, phi, cmap='hot')\n",
    "ax.set_xlabel('x')\n",
    "ax.set_ylabel('y')\n",
    "ax.set_title('Solution of Laplace Equation')\n",
    "plt.colorbar(contour)\n",
    "plt.show()"
   ]
  },
  {
   "cell_type": "code",
   "execution_count": 23,
   "metadata": {},
   "outputs": [
    {
     "data": {
      "image/png": "[encoded data removed]",
      "text/plain": [
       "<Figure size 640x480 with 2 Axes>"
      ]
     },
     "metadata": {},
     "output_type": "display_data"
    }
   ],
   "source": [
    "import numpy as np\n",
    "import matplotlib.pyplot as plt\n",
    "\n",
    "# Define the dimensions and number of grid points\n",
    "nx = 101  # Number of grid points along x-axis\n",
    "ny = 101  # Number of grid points along y-axis\n",
    "xmin, xmax = 0, 1  # Domain boundaries along x-axis\n",
    "ymin, ymax = 0, 1  # Domain boundaries along y-axis\n",
    "\n",
    "dx = (xmax - xmin) / (nx - 1)  # Grid spacing along x-axis\n",
    "dy = (ymax - ymin) / (ny - 1)  # Grid spacing along y-axis\n",
    "\n",
    "# Initialize the solution matrix\n",
    "u = np.zeros((ny, nx))\n",
    "\n",
    "# Set the boundary conditions\n",
    "u[:, 0] = 0  # Boundary condition along left side (x = 0)\n",
    "u[:, -1] = 0  # Boundary condition along right side (x = 1)\n",
    "u[0, :] = 0  # Boundary condition along bottom side (y = 0)\n",
    "u[-1, :] = 0  # Boundary condition along top side (y = 1)\n",
    "\n",
    "# Iterate until solution converges\n",
    "max_iter = 1000\n",
    "tolerance = 1e-4\n",
    "for iteration in range(max_iter):\n",
    "    u_old = u.copy()\n",
    "\n",
    "    # Update the solution\n",
    "    u[1:-1, 1:-1] = 0.25 * (u_old[1:-1, 0:-2] + u_old[1:-1, 2:] +\n",
    "                            u_old[0:-2, 1:-1] + u_old[2:, 1:-1])\n",
    "\n",
    "    # Check for convergence\n",
    "    error = np.max(np.abs(u - u_old))\n",
    "    if error < tolerance:\n",
    "        break\n",
    "\n",
    "# Plot the solution\n",
    "x = np.linspace(xmin, xmax, nx)\n",
    "y = np.linspace(ymin, ymax, ny)\n",
    "X, Y = np.meshgrid(x, y)\n",
    "plt.contourf(X, Y, u, cmap='hot')\n",
    "plt.colorbar(label='Temperature')\n",
    "plt.xlabel('x')\n",
    "plt.ylabel('y')\n",
    "plt.title('Solution of the 2D Laplace equation')\n",
    "plt.show()"
   ]
  },
  {
   "cell_type": "code",
   "execution_count": 24,
   "metadata": {},
   "outputs": [
    {
     "data": {
      "text/html": [
       "AI generated code inserted below &#11015;&#65039;"
      ],
      "text/plain": [
       "<IPython.core.display.HTML object>"
      ]
     },
     "execution_count": 24,
     "metadata": {
      "text/html": {
       "jupyter_ai": {
        "model_id": "gpt-3.5-turbo",
        "provider_id": "openai-chat"
       }
      }
     },
     "output_type": "execute_result"
    }
   ],
   "source": [
    "%%ai chatgpt --format code\n",
    "A program that asks me for my name and then greets me by my name, in Norwegian"
   ]
  },
  {
   "cell_type": "code",
   "execution_count": null,
   "metadata": {},
   "outputs": [],
   "source": [
    "name = input(\"Hva heter du? \")\n",
    "print(\"Hei, \" + name + \"!\")"
   ]
  },
  {
   "cell_type": "code",
   "execution_count": 25,
   "metadata": {},
   "outputs": [
    {
     "name": "stdout",
     "output_type": "stream",
     "text": [
      "Hei Arvid\n"
     ]
    }
   ],
   "source": [
    "name = input(\"Hva er navnet ditt? \")\n",
    "print(\"Hei\", name)"
   ]
  },
  {
   "cell_type": "code",
   "execution_count": 26,
   "metadata": {},
   "outputs": [
    {
     "data": {
      "text/markdown": [
       "The SIR model is a mathematical model used to simulate the spread of infectious diseases. It divides the population into three categories: susceptible individuals (S), individuals infected with the disease (I), and individuals who have recovered and are immune to the disease (R). The model uses differential equations to describe the flow of individuals between these categories over time."
      ],
      "text/plain": [
       "<IPython.core.display.Markdown object>"
      ]
     },
     "execution_count": 26,
     "metadata": {
      "text/markdown": {
       "jupyter_ai": {
        "model_id": "gpt-3.5-turbo",
        "provider_id": "openai-chat"
       }
      }
     },
     "output_type": "execute_result"
    }
   ],
   "source": [
    "%%ai chatgpt\n",
    "What is the SIR model?"
   ]
  },
  {
   "cell_type": "code",
   "execution_count": 27,
   "metadata": {},
   "outputs": [
    {
     "data": {
      "text/html": [
       "AI generated code inserted below &#11015;&#65039;"
      ],
      "text/plain": [
       "<IPython.core.display.HTML object>"
      ]
     },
     "execution_count": 27,
     "metadata": {
      "text/html": {
       "jupyter_ai": {
        "model_id": "gpt-3.5-turbo",
        "provider_id": "openai-chat"
       }
      }
     },
     "output_type": "execute_result"
    }
   ],
   "source": [
    "%%ai chatgpt --format code\n",
    "Can you make a simple implementation of the SIR model in Python?"
   ]
  },
  {
   "cell_type": "code",
   "execution_count": null,
   "metadata": {},
   "outputs": [],
   "source": [
    "import numpy as np\n",
    "import matplotlib.pyplot as plt\n",
    "\n",
    "# Parameters\n",
    "beta = 0.3  # Infection rate\n",
    "gamma = 0.1  # Recovery rate\n",
    "N = 1000  # Total population\n",
    "I0 = 1  # Initial number of infected individuals\n",
    "R0 = 0  # Initial number of recovered individuals\n",
    "S0 = N - I0 - R0  # Initial number of susceptible individuals\n",
    "\n",
    "# SIR model function\n",
    "def sir_model(S, I, R, beta, gamma):\n",
    "    dS = -beta * S * I / N\n",
    "    dI = beta * S * I / N - gamma * I\n",
    "    dR = gamma * I\n",
    "    return dS, dI, dR\n",
    "\n",
    "# Simulation\n",
    "t = np.linspace(0, 100, 1000)\n",
    "S, I, R = [S0], [I0], [R0]\n",
    "for _ in t[1:]:\n",
    "    dS, dI, dR = sir_model(S[-1], I[-1], R[-1], beta, gamma)\n",
    "    S.append(S[-1] + dS)\n",
    "    I.append(I[-1] + dI)\n",
    "    R.append(R[-1] + dR)\n",
    "\n",
    "# Plot results\n",
    "plt.figure()\n",
    "plt.plot(t, S, label='Susceptible')\n",
    "plt.plot(t, I, label='Infected')\n",
    "plt.plot(t, R, label='Recovered')\n",
    "plt.xlabel('Time')\n",
    "plt.ylabel('Number of individuals')\n",
    "plt.legend()\n",
    "plt.show()"
   ]
  },
  {
   "cell_type": "code",
   "execution_count": 28,
   "metadata": {},
   "outputs": [
    {
     "data": {
      "image/png": "[encoded data removed]",
      "text/plain": [
       "<Figure size 640x480 with 1 Axes>"
      ]
     },
     "metadata": {},
     "output_type": "display_data"
    }
   ],
   "source": [
    "import numpy as np\n",
    "from scipy.integrate import odeint\n",
    "import matplotlib.pyplot as plt\n",
    "\n",
    "# Total population, N.\n",
    "N = 1000\n",
    "# Initial number of infected and recovered individuals, I0 and R0.\n",
    "I0, R0 = 1, 0\n",
    "# Everyone else, S0, is susceptible to infection initially.\n",
    "S0 = N - I0 - R0\n",
    "# Contact rate, beta, and mean recovery rate, gamma, (in 1/days).\n",
    "beta, gamma = 0.2, 1./10 \n",
    "# A grid of time points (in days)\n",
    "t = np.linspace(0, 160, 160)\n",
    "\n",
    "# The SIR model differential equations.\n",
    "def deriv(y, t, N, beta, gamma):\n",
    "    S, I, R = y\n",
    "    dSdt = -beta * S * I / N\n",
    "    dIdt = beta * S * I / N - gamma * I\n",
    "    dRdt = gamma * I\n",
    "    return dSdt, dIdt, dRdt\n",
    "\n",
    "# Initial conditions vector\n",
    "y0 = S0, I0, R0\n",
    "# Integrate the SIR equations over the time grid, t.\n",
    "ret = odeint(deriv, y0, t, args=(N, beta, gamma))\n",
    "S, I, R = ret.T\n",
    "\n",
    "# Plot the data on three separate curves for S(t), I(t) and R(t)\n",
    "plt.plot(t, S, 'b', label='Susceptible')\n",
    "plt.plot(t, I, 'r', label='Infected')\n",
    "plt.plot(t, R, 'g', label='Recovered')\n",
    "plt.xlabel('Time (days)')\n",
    "plt.ylabel('Number of individuals')\n",
    "plt.title('SIR Model')\n",
    "plt.legend(loc='best')\n",
    "plt.show()"
   ]
  },
  {
   "cell_type": "code",
   "execution_count": null,
   "metadata": {},
   "outputs": [],
   "source": []
  },
  {
   "cell_type": "code",
   "execution_count": null,
   "metadata": {},
   "outputs": [],
   "source": []
  },
  {
   "cell_type": "code",
   "execution_count": null,
   "metadata": {},
   "outputs": [],
   "source": []
  }
 ],
 "metadata": {
  "kernelspec": {
   "display_name": "Python 3 (ipykernel)",
   "language": "python",
   "name": "python3"
  },
  "language_info": {
   "codemirror_mode": {
    "name": "ipython",
    "version": 3
   },
   "file_extension": ".py",
   "mimetype": "text/x-python",
   "name": "python",
   "nbconvert_exporter": "python",
   "pygments_lexer": "ipython3",
   "version": "3.11.7"
  }
 },
 "nbformat": 4,
 "nbformat_minor": 4
}
