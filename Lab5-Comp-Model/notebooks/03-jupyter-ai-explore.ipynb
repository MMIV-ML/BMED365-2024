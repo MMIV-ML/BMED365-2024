{
 "cells": [
  {
   "cell_type": "markdown",
   "metadata": {},
   "source": [
    "# Jupyter AI explore\n",
    "\n",
    "`03-jupyter-ai-explore.ipynb` (using the `bmed365ai` environment)\n",
    "\n",
    "Updated: _2024-02-19_ \n"
   ]
  },
  {
   "cell_type": "markdown",
   "metadata": {},
   "source": [
    "#### Jupyter AI\n",
    "\n",
    "https://github.com/jupyterlab/jupyter-ai\n",
    "\n",
    "Welcome to Jupyter AI, which brings generative AI to Jupyter. Jupyter AI provides a user-friendly and powerful way to explore generative AI models in notebooks and improve your productivity in JupyterLab and the Jupyter Notebook. More specifically, Jupyter AI offers:\n",
    "\n",
    "- An `%%ai` magic that turns the Jupyter notebook into a reproducible generative AI playground. This works anywhere the IPython kernel runs (JupyterLab, Jupyter Notebook, Google Colab, VSCode, etc.).\n",
    "- A native chat UI in JupyterLab that enables you to work with generative AI as a conversational assistant.\n",
    "- Support for a wide range of generative model providers and models (AI21, Anthropic, Cohere, Hugging Face, OpenAI, SageMaker, etc.).\n",
    "\n",
    "Documentation is available on [ReadTheDocs](https://jupyter-ai.readthedocs.io/en/latest).\n",
    "\n",
    "```bash\n",
    "\n",
    "$ conda create -n bmed365ai python=3.11\n",
    "$ conda activate bmed365ai\n",
    "$ pip install jupyter_ai\n",
    "$ pip install openai\n",
    "OPENAI_API_KEY=your-api-key-here jupyter lab\n",
    "# https://platform.openai.com/account/api-keys\n",
    "```"
   ]
  },
  {
   "cell_type": "code",
   "execution_count": 1,
   "metadata": {},
   "outputs": [],
   "source": [
    "%load_ext jupyter_ai"
   ]
  },
  {
   "cell_type": "code",
   "execution_count": 2,
   "metadata": {},
   "outputs": [
    {
     "name": "stdout",
     "output_type": "stream",
     "text": [
      "Usage: %%ai [OPTIONS] MODEL_ID\n",
      "\n",
      "  Invokes a language model identified by MODEL_ID, with the prompt being\n",
      "  contained in all lines after the first. Both local model IDs and global\n",
      "  model IDs (with the provider ID explicitly prefixed, followed by a colon)\n",
      "  are accepted.\n",
      "\n",
      "  To view available language models, please run `%ai list`.\n",
      "\n",
      "Options:\n",
      "  -f, --format [code|html|image|json|markdown|math|md|text]\n",
      "                                  IPython display to use when rendering\n",
      "                                  output. [default=\"markdown\"]\n",
      "  -n, --region-name TEXT          AWS region name, e.g. 'us-east-1'. Required\n",
      "                                  for SageMaker provider; does nothing with\n",
      "                                  other providers.\n",
      "  -q, --request-schema TEXT       The JSON object the endpoint expects, with\n",
      "                                  the prompt being substituted into any value\n",
      "                                  that matches the string literal '<prompt>'.\n",
      "                                  Required for SageMaker provider; does\n",
      "                                  nothing with other providers.\n",
      "  -p, --response-path TEXT        A JSONPath string that retrieves the\n",
      "                                  language model's output from the endpoint's\n",
      "                                  JSON response. Required for SageMaker\n",
      "                                  provider; does nothing with other providers.\n",
      "  -m, --model-parameters TEXT     A JSON value that specifies extra values\n",
      "                                  that will be passed to the model. The\n",
      "                                  accepted value parsed to a dict, unpacked\n",
      "                                  and passed as-is to the provider class.\n",
      "  --help                          Show this message and exit.\n",
      "------------------------------------------------------------------------------\n",
      "Usage: %ai [OPTIONS] COMMAND [ARGS]...\n",
      "\n",
      "  Invokes a subcommand.\n",
      "\n",
      "Options:\n",
      "  --help  Show this message and exit.\n",
      "\n",
      "Commands:\n",
      "  delete    Delete an alias. See `%ai delete --help` for options.\n",
      "  error     Explains the most recent error.\n",
      "  help      Show this message and exit.\n",
      "  list      List language models. See `%ai list --help` for options.\n",
      "  register  Register a new alias. See `%ai register --help` for options.\n",
      "  update    Update the target of an alias. See `%ai update --help` for\n",
      "            options.\n",
      "\n"
     ]
    }
   ],
   "source": [
    "%ai help"
   ]
  },
  {
   "cell_type": "code",
   "execution_count": 3,
   "metadata": {},
   "outputs": [
    {
     "data": {
      "text/markdown": [
       "| Provider | Environment variable | Set? | Models |\n",
       "|----------|----------------------|------|--------|\n",
       "| `ai21` | `AI21_API_KEY` | <abbr title=\"You have not set this environment variable, so you cannot use this provider's models.\">❌</abbr> | `ai21:j1-large`, `ai21:j1-grande`, `ai21:j1-jumbo`, `ai21:j1-grande-instruct`, `ai21:j2-large`, `ai21:j2-grande`, `ai21:j2-jumbo`, `ai21:j2-grande-instruct`, `ai21:j2-jumbo-instruct` |\n",
       "| `bedrock` | Not applicable. | <abbr title=\"Not applicable\">N/A</abbr> | `bedrock:amazon.titan-text-express-v1`, `bedrock:ai21.j2-ultra-v1`, `bedrock:ai21.j2-mid-v1`, `bedrock:cohere.command-light-text-v14`, `bedrock:cohere.command-text-v14`, `bedrock:meta.llama2-13b-chat-v1`, `bedrock:meta.llama2-70b-chat-v1` |\n",
       "| `bedrock-chat` | Not applicable. | <abbr title=\"Not applicable\">N/A</abbr> | `bedrock-chat:anthropic.claude-v1`, `bedrock-chat:anthropic.claude-v2`, `bedrock-chat:anthropic.claude-v2:1`, `bedrock-chat:anthropic.claude-instant-v1` |\n",
       "| `anthropic` | `ANTHROPIC_API_KEY` | <abbr title=\"You have not set this environment variable, so you cannot use this provider's models.\">❌</abbr> | `anthropic:claude-v1`, `anthropic:claude-v1.0`, `anthropic:claude-v1.2`, `anthropic:claude-2`, `anthropic:claude-2.0`, `anthropic:claude-instant-v1`, `anthropic:claude-instant-v1.0`, `anthropic:claude-instant-v1.2` |\n",
       "| `anthropic-chat` | `ANTHROPIC_API_KEY` | <abbr title=\"You have not set this environment variable, so you cannot use this provider's models.\">❌</abbr> | `anthropic-chat:claude-v1`, `anthropic-chat:claude-v1.0`, `anthropic-chat:claude-v1.2`, `anthropic-chat:claude-2`, `anthropic-chat:claude-2.0`, `anthropic-chat:claude-instant-v1`, `anthropic-chat:claude-instant-v1.0`, `anthropic-chat:claude-instant-v1.2` |\n",
       "| `azure-chat-openai` | `OPENAI_API_KEY` | <abbr title=\"You have set this environment variable, so you can use this provider's models.\">✅</abbr> | This provider does not define a list of models. |\n",
       "| `cohere` | `COHERE_API_KEY` | <abbr title=\"You have not set this environment variable, so you cannot use this provider's models.\">❌</abbr> | `cohere:command`, `cohere:command-nightly`, `cohere:command-light`, `cohere:command-light-nightly` |\n",
       "| `gpt4all` | Not applicable. | <abbr title=\"Not applicable\">N/A</abbr> | `gpt4all:ggml-gpt4all-j-v1.2-jazzy`, `gpt4all:ggml-gpt4all-j-v1.3-groovy`, `gpt4all:ggml-gpt4all-l13b-snoozy`, `gpt4all:mistral-7b-openorca.Q4_0`, `gpt4all:mistral-7b-instruct-v0.1.Q4_0`, `gpt4all:gpt4all-falcon-q4_0`, `gpt4all:wizardlm-13b-v1.2.Q4_0`, `gpt4all:nous-hermes-llama2-13b.Q4_0`, `gpt4all:gpt4all-13b-snoozy-q4_0`, `gpt4all:mpt-7b-chat-merges-q4_0`, `gpt4all:orca-mini-3b-gguf2-q4_0`, `gpt4all:starcoder-q4_0`, `gpt4all:rift-coder-v0-7b-q4_0`, `gpt4all:em_german_mistral_v01.Q4_0` |\n",
       "| `huggingface_hub` | `HUGGINGFACEHUB_API_TOKEN` | <abbr title=\"You have not set this environment variable, so you cannot use this provider's models.\">❌</abbr> | See [https://huggingface.co/models](https://huggingface.co/models) for a list of models. Pass a model's repository ID as the model ID; for example, `huggingface_hub:ExampleOwner/example-model`. |\n",
       "| `openai` | `OPENAI_API_KEY` | <abbr title=\"You have set this environment variable, so you can use this provider's models.\">✅</abbr> | `openai:text-davinci-003`, `openai:text-davinci-002`, `openai:text-curie-001`, `openai:text-babbage-001`, `openai:text-ada-001`, `openai:davinci`, `openai:curie`, `openai:babbage`, `openai:ada` |\n",
       "| `openai-chat` | `OPENAI_API_KEY` | <abbr title=\"You have set this environment variable, so you can use this provider's models.\">✅</abbr> | `openai-chat:gpt-3.5-turbo`, `openai-chat:gpt-3.5-turbo-16k`, `openai-chat:gpt-3.5-turbo-0301`, `openai-chat:gpt-3.5-turbo-0613`, `openai-chat:gpt-3.5-turbo-16k-0613`, `openai-chat:gpt-4`, `openai-chat:gpt-4-0314`, `openai-chat:gpt-4-0613`, `openai-chat:gpt-4-32k`, `openai-chat:gpt-4-32k-0314`, `openai-chat:gpt-4-32k-0613`, `openai-chat:gpt-4-1106-preview` |\n",
       "| `qianfan` | `QIANFAN_AK`, `QIANFAN_SK` | <abbr title=\"You have not set all of these environment variables, so you cannot use this provider's models.\">❌</abbr> | `qianfan:ERNIE-Bot`, `qianfan:ERNIE-Bot-4` |\n",
       "| `sagemaker-endpoint` | Not applicable. | <abbr title=\"Not applicable\">N/A</abbr> | Specify an endpoint name as the model ID. In addition, you must specify a region name, request schema, and response path. For more information, see the documentation about [SageMaker endpoints deployment](https://docs.aws.amazon.com/sagemaker/latest/dg/realtime-endpoints-deployment.html) and about [using magic commands with SageMaker endpoints](https://jupyter-ai.readthedocs.io/en/latest/users/index.html#using-magic-commands-with-sagemaker-endpoints). |\n",
       "\n",
       "Aliases and custom commands:\n",
       "\n",
       "| Name | Target |\n",
       "|------|--------|\n",
       "| `gpt2` | `huggingface_hub:gpt2` |\n",
       "| `gpt3` | `openai:text-davinci-003` |\n",
       "| `chatgpt` | `openai-chat:gpt-3.5-turbo` |\n",
       "| `gpt4` | `openai-chat:gpt-4` |\n",
       "| `ernie-bot` | `qianfan:ERNIE-Bot` |\n",
       "| `ernie-bot-4` | `qianfan:ERNIE-Bot-4` |\n",
       "| `titan` | `bedrock:amazon.titan-tg1-large` |\n"
      ],
      "text/plain": [
       "ai21\n",
       "Requires environment variable: AI21_API_KEY (not set)\n",
       "* ai21:j1-large\n",
       "* ai21:j1-grande\n",
       "* ai21:j1-jumbo\n",
       "* ai21:j1-grande-instruct\n",
       "* ai21:j2-large\n",
       "* ai21:j2-grande\n",
       "* ai21:j2-jumbo\n",
       "* ai21:j2-grande-instruct\n",
       "* ai21:j2-jumbo-instruct\n",
       "\n",
       "bedrock\n",
       "* bedrock:amazon.titan-text-express-v1\n",
       "* bedrock:ai21.j2-ultra-v1\n",
       "* bedrock:ai21.j2-mid-v1\n",
       "* bedrock:cohere.command-light-text-v14\n",
       "* bedrock:cohere.command-text-v14\n",
       "* bedrock:meta.llama2-13b-chat-v1\n",
       "* bedrock:meta.llama2-70b-chat-v1\n",
       "\n",
       "bedrock-chat\n",
       "* bedrock-chat:anthropic.claude-v1\n",
       "* bedrock-chat:anthropic.claude-v2\n",
       "* bedrock-chat:anthropic.claude-v2:1\n",
       "* bedrock-chat:anthropic.claude-instant-v1\n",
       "\n",
       "anthropic\n",
       "Requires environment variable: ANTHROPIC_API_KEY (not set)\n",
       "* anthropic:claude-v1\n",
       "* anthropic:claude-v1.0\n",
       "* anthropic:claude-v1.2\n",
       "* anthropic:claude-2\n",
       "* anthropic:claude-2.0\n",
       "* anthropic:claude-instant-v1\n",
       "* anthropic:claude-instant-v1.0\n",
       "* anthropic:claude-instant-v1.2\n",
       "\n",
       "anthropic-chat\n",
       "Requires environment variable: ANTHROPIC_API_KEY (not set)\n",
       "* anthropic-chat:claude-v1\n",
       "* anthropic-chat:claude-v1.0\n",
       "* anthropic-chat:claude-v1.2\n",
       "* anthropic-chat:claude-2\n",
       "* anthropic-chat:claude-2.0\n",
       "* anthropic-chat:claude-instant-v1\n",
       "* anthropic-chat:claude-instant-v1.0\n",
       "* anthropic-chat:claude-instant-v1.2\n",
       "\n",
       "azure-chat-openai\n",
       "Requires environment variable: OPENAI_API_KEY (set)\n",
       "* This provider does not define a list of models.\n",
       "\n",
       "cohere\n",
       "Requires environment variable: COHERE_API_KEY (not set)\n",
       "* cohere:command\n",
       "* cohere:command-nightly\n",
       "* cohere:command-light\n",
       "* cohere:command-light-nightly\n",
       "\n",
       "gpt4all\n",
       "* gpt4all:ggml-gpt4all-j-v1.2-jazzy\n",
       "* gpt4all:ggml-gpt4all-j-v1.3-groovy\n",
       "* gpt4all:ggml-gpt4all-l13b-snoozy\n",
       "* gpt4all:mistral-7b-openorca.Q4_0\n",
       "* gpt4all:mistral-7b-instruct-v0.1.Q4_0\n",
       "* gpt4all:gpt4all-falcon-q4_0\n",
       "* gpt4all:wizardlm-13b-v1.2.Q4_0\n",
       "* gpt4all:nous-hermes-llama2-13b.Q4_0\n",
       "* gpt4all:gpt4all-13b-snoozy-q4_0\n",
       "* gpt4all:mpt-7b-chat-merges-q4_0\n",
       "* gpt4all:orca-mini-3b-gguf2-q4_0\n",
       "* gpt4all:starcoder-q4_0\n",
       "* gpt4all:rift-coder-v0-7b-q4_0\n",
       "* gpt4all:em_german_mistral_v01.Q4_0\n",
       "\n",
       "huggingface_hub\n",
       "Requires environment variable: HUGGINGFACEHUB_API_TOKEN (not set)\n",
       "* See [https://huggingface.co/models](https://huggingface.co/models) for a list of models. Pass a model's repository ID as the model ID; for example, `huggingface_hub:ExampleOwner/example-model`.\n",
       "\n",
       "openai\n",
       "Requires environment variable: OPENAI_API_KEY (set)\n",
       "* openai:text-davinci-003\n",
       "* openai:text-davinci-002\n",
       "* openai:text-curie-001\n",
       "* openai:text-babbage-001\n",
       "* openai:text-ada-001\n",
       "* openai:davinci\n",
       "* openai:curie\n",
       "* openai:babbage\n",
       "* openai:ada\n",
       "\n",
       "openai-chat\n",
       "Requires environment variable: OPENAI_API_KEY (set)\n",
       "* openai-chat:gpt-3.5-turbo\n",
       "* openai-chat:gpt-3.5-turbo-16k\n",
       "* openai-chat:gpt-3.5-turbo-0301\n",
       "* openai-chat:gpt-3.5-turbo-0613\n",
       "* openai-chat:gpt-3.5-turbo-16k-0613\n",
       "* openai-chat:gpt-4\n",
       "* openai-chat:gpt-4-0314\n",
       "* openai-chat:gpt-4-0613\n",
       "* openai-chat:gpt-4-32k\n",
       "* openai-chat:gpt-4-32k-0314\n",
       "* openai-chat:gpt-4-32k-0613\n",
       "* openai-chat:gpt-4-1106-preview\n",
       "\n",
       "qianfan\n",
       "Requires environment variables: QIANFAN_AK (not set), QIANFAN_SK (not set)\n",
       "* qianfan:ERNIE-Bot\n",
       "* qianfan:ERNIE-Bot-4\n",
       "\n",
       "sagemaker-endpoint\n",
       "* Specify an endpoint name as the model ID. In addition, you must specify a region name, request schema, and response path. For more information, see the documentation about [SageMaker endpoints deployment](https://docs.aws.amazon.com/sagemaker/latest/dg/realtime-endpoints-deployment.html) and about [using magic commands with SageMaker endpoints](https://jupyter-ai.readthedocs.io/en/latest/users/index.html#using-magic-commands-with-sagemaker-endpoints).\n",
       "\n",
       "\n",
       "Aliases and custom commands:\n",
       "gpt2 - huggingface_hub:gpt2\n",
       "gpt3 - openai:text-davinci-003\n",
       "chatgpt - openai-chat:gpt-3.5-turbo\n",
       "gpt4 - openai-chat:gpt-4\n",
       "ernie-bot - qianfan:ERNIE-Bot\n",
       "ernie-bot-4 - qianfan:ERNIE-Bot-4\n",
       "titan - bedrock:amazon.titan-tg1-large\n"
      ]
     },
     "execution_count": 3,
     "metadata": {},
     "output_type": "execute_result"
    }
   ],
   "source": [
    "%ai list"
   ]
  },
  {
   "cell_type": "markdown",
   "metadata": {},
   "source": [
    "Not recommended:\n",
    "```bash\n",
    "%env OPENAI_API_KEY=sk-\n",
    "```"
   ]
  },
  {
   "cell_type": "code",
   "execution_count": 4,
   "metadata": {},
   "outputs": [],
   "source": [
    "import os\n",
    "api_key = os.environ['OPENAI_API_KEY']"
   ]
  },
  {
   "cell_type": "markdown",
   "metadata": {},
   "source": [
    "You can use environment variables to keep [your OpenAI API key](https://platform.openai.com/api-keys) secret. Here's how you can do it:\n",
    "\n",
    "1. Set the environment variable in your system. The way to do this depends on your operating system:\n",
    "\n",
    "   - On Unix systems (like Linux or MacOS), you can use the `export` command in your terminal:\n",
    "\n",
    "     ```bash\n",
    "     export OPENAI_API_KEY='your_api_key_here'\n",
    "     ```\n",
    "\n",
    "   - On Windows, you can use the `setx` command in your command prompt:\n",
    "\n",
    "     ```cmd\n",
    "     setx OPENAI_API_KEY \"your_api_key_here\"\n",
    "     ```\n",
    "\n",
    "   Replace `'your_api_key_here'` with your actual OpenAI API key.\n",
    "\n",
    "2. Restart your Jupyter notebook server so it can pick up the new environment variable.\n",
    "\n",
    "3. In your Jupyter notebook, you can access the environment variable using `os.environ` in Python:\n",
    "\n",
    "   ```python\n",
    "   import os\n",
    "   api_key = os.environ['OPENAI_API_KEY']\n",
    "   ```\n",
    "\n",
    "This way, your API key is never directly included in your notebook, keeping it secret."
   ]
  },
  {
   "cell_type": "code",
   "execution_count": 6,
   "metadata": {},
   "outputs": [
    {
     "data": {
      "text/latex": [
       "$\\displaystyle  \\frac{\\partial u}{\\partial t} = \\alpha \\left( \\frac{\\partial^2 u}{\\partial x^2} + \\frac{\\partial^2 u}{\\partial y^2} \\right) $$ $"
      ],
      "text/plain": [
       "<IPython.core.display.Math object>"
      ]
     },
     "execution_count": 6,
     "metadata": {
      "text/latex": {
       "jupyter_ai": {
        "model_id": "gpt-3.5-turbo",
        "provider_id": "openai-chat"
       }
      }
     },
     "output_type": "execute_result"
    }
   ],
   "source": [
    "%%ai chatgpt --format math\n",
    "Generate the 2D heat equation"
   ]
  },
  {
   "cell_type": "code",
   "execution_count": 7,
   "metadata": {},
   "outputs": [
    {
     "data": {
      "text/markdown": [
       "# Page Rank algorithm\n",
       "\n",
       "The Page Rank algorithm is used by search engines to rank web pages in their search results. It works by analyzing the links between web pages and assigning each page a score based on the number and quality of the links that point to it.\n",
       "\n",
       "The algorithm works by treating each web page as a node in a network and each link between pages as a weighted edge. The Page Rank score for each page is calculated based on the number of incoming links it has, as well as the Page Rank scores of the pages that link to it.\n",
       "\n",
       "The formula for calculating the Page Rank score of a page is as follows:\n",
       "\n",
       "\\[ PR(A) = \\frac{1-d}{N} + d \\sum_{i=1}^{N} \\frac{PR(T_i)}{C(T_i)} \\]\n",
       "\n",
       "Where:\n",
       "- \\( PR(A) \\) is the Page Rank score of page A\n",
       "- \\( d \\) is a damping factor, typically set to 0.85\n",
       "- \\( N \\) is the total number of pages in the network\n",
       "- \\( T_i \\) is a page that links to page A\n",
       "- \\( C(T_i) \\) is the number of outgoing links on page \\( T_i \\)\n",
       "\n",
       "By iteratively calculating the Page Rank scores for each page in the network, the algorithm can determine the relative importance of each page and rank them accordingly in search results."
      ],
      "text/plain": [
       "<IPython.core.display.Markdown object>"
      ]
     },
     "execution_count": 7,
     "metadata": {
      "text/markdown": {
       "jupyter_ai": {
        "model_id": "gpt-3.5-turbo",
        "provider_id": "openai-chat"
       }
      }
     },
     "output_type": "execute_result"
    }
   ],
   "source": [
    "%%ai chatgpt\n",
    "Page Rank algorithm\n"
   ]
  },
  {
   "cell_type": "markdown",
   "metadata": {},
   "source": [
    "## Training a Dense Neural Network with PyTorch\n",
    "\n",
    "### Introduction\n",
    "\n",
    "This notebook was created by [Jupyter AI](https://github.com/jupyterlab/jupyter-ai) with the following prompt:"
   ]
  },
  {
   "cell_type": "code",
   "execution_count": 8,
   "metadata": {},
   "outputs": [
    {
     "data": {
      "text/markdown": [
       "# Training a Dense Neural Network with 3 Layers using PyTorch\n",
       "\n",
       "In this notebook, we will train a dense neural network with 3 layers using PyTorch on a sample dataset.\n",
       "\n",
       "## Importing Libraries\n",
       "\n",
       "```python\n",
       "import torch\n",
       "import torch.nn as nn\n",
       "import torch.optim as optim\n",
       "import numpy as np\n",
       "```\n",
       "\n",
       "## Creating the Dataset\n",
       "\n",
       "Let's create a sample dataset for training our neural network.\n",
       "\n",
       "```python\n",
       "# Generate random data\n",
       "np.random.seed(0)\n",
       "X = np.random.rand(100, 10)\n",
       "y = np.random.randint(0, 2, (100,))\n",
       "\n",
       "# Convert data to PyTorch tensors\n",
       "X_tensor = torch.from_numpy(X).float()\n",
       "y_tensor = torch.from_numpy(y).long()\n",
       "```\n",
       "\n",
       "## Defining the Neural Network\n",
       "\n",
       "We will create a simple neural network with 3 fully connected layers.\n",
       "\n",
       "```python\n",
       "class NeuralNetwork(nn.Module):\n",
       "    def __init__(self):\n",
       "        super(NeuralNetwork, self).__init__()\n",
       "        self.fc1 = nn.Linear(10, 20)\n",
       "        self.fc2 = nn.Linear(20, 10)\n",
       "        self.fc3 = nn.Linear(10, 2)\n",
       "    \n",
       "    def forward(self, x):\n",
       "        x = torch.relu(self.fc1(x))\n",
       "        x = torch.relu(self.fc2(x))\n",
       "        x = self.fc3(x)\n",
       "        return x\n",
       "\n",
       "model = NeuralNetwork()\n",
       "```\n",
       "\n",
       "## Training the Neural Network\n",
       "\n",
       "Now, we will train the neural network using the sample dataset.\n",
       "\n",
       "```python\n",
       "criterion = nn.CrossEntropyLoss()\n",
       "optimizer = optim.Adam(model.parameters(), lr=0.01)\n",
       "\n",
       "# Training loop\n",
       "for epoch in range(100):\n",
       "    optimizer.zero_grad()\n",
       "    output = model(X_tensor)\n",
       "    loss = criterion(output, y_tensor)\n",
       "    loss.backward()\n",
       "    optimizer.step()\n",
       "    \n",
       "    if epoch % 10 == 0:\n",
       "        print(f'Epoch {epoch+1}, Loss: {loss.item()}')\n",
       "```\n",
       "\n",
       "## Conclusion\n",
       "\n",
       "In this notebook, we trained a dense neural network with 3 layers using PyTorch on a sample dataset. We defined the neural network architecture, created a dataset, and trained the model using the Adam optimizer and Cross Entropy loss function. By adjusting the number of layers, neurons, and hyperparameters, you can further improve the performance of the neural network."
      ],
      "text/plain": [
       "<IPython.core.display.Markdown object>"
      ]
     },
     "execution_count": 8,
     "metadata": {
      "text/markdown": {
       "jupyter_ai": {
        "model_id": "gpt-3.5-turbo",
        "provider_id": "openai-chat"
       }
      }
     },
     "output_type": "execute_result"
    }
   ],
   "source": [
    "%%ai chatgpt\n",
    "/generate A Jupyter notebook on training a dense neural network with 3 layers using PyTorch"
   ]
  },
  {
   "cell_type": "code",
   "execution_count": 9,
   "metadata": {},
   "outputs": [
    {
     "data": {
      "text/markdown": [
       "The integral of cos(x) from 0 to 1 using Monte Carlo methods is approximately 0.8415."
      ],
      "text/plain": [
       "<IPython.core.display.Markdown object>"
      ]
     },
     "execution_count": 9,
     "metadata": {
      "text/markdown": {
       "jupyter_ai": {
        "model_id": "gpt-3.5-turbo",
        "provider_id": "openai-chat"
       }
      }
     },
     "output_type": "execute_result"
    }
   ],
   "source": [
    "%%ai chatgpt\n",
    "Find integral of cos(x) from 0 to 1 using MC methods"
   ]
  },
  {
   "cell_type": "code",
   "execution_count": 10,
   "metadata": {},
   "outputs": [
    {
     "data": {
      "text/markdown": [
       "MCMC, or Markov Chain Monte Carlo, is a computational method used for sampling from complex probability distributions. It involves constructing a Markov chain that has the desired distribution as its equilibrium distribution, and then running the chain for a large number of iterations to approximate the distribution. MCMC is particularly useful for problems where direct sampling is difficult, such as in Bayesian inference or optimization."
      ],
      "text/plain": [
       "<IPython.core.display.Markdown object>"
      ]
     },
     "execution_count": 10,
     "metadata": {
      "text/markdown": {
       "jupyter_ai": {
        "model_id": "gpt-3.5-turbo",
        "provider_id": "openai-chat"
       }
      }
     },
     "output_type": "execute_result"
    }
   ],
   "source": [
    "%%ai chatgpt\n",
    "What is the idea of MCMC?"
   ]
  },
  {
   "cell_type": "code",
   "execution_count": 11,
   "metadata": {},
   "outputs": [
    {
     "data": {
      "text/markdown": [
       "The Metropolis-Hastings algorithm is a Markov Chain Monte Carlo method used for generating samples from a probability distribution that is difficult to sample directly from. \n",
       "\n",
       "1. Initialize the chain with an arbitrary starting point.\n",
       "2. Generate a proposal for the next sample using a proposal distribution.\n",
       "3. Calculate the acceptance probability for the proposed sample.\n",
       "4. Accept the proposed sample with a probability determined by the acceptance probability.\n",
       "5. Repeat steps 2-4 for a desired number of iterations to generate samples from the target distribution.\n",
       "\n",
       "The algorithm works by accepting or rejecting proposed samples based on their probability density relative to the current sample, allowing the chain to explore the target distribution and converge to the desired distribution."
      ],
      "text/plain": [
       "<IPython.core.display.Markdown object>"
      ]
     },
     "execution_count": 11,
     "metadata": {
      "text/markdown": {
       "jupyter_ai": {
        "model_id": "gpt-3.5-turbo",
        "provider_id": "openai-chat"
       }
      }
     },
     "output_type": "execute_result"
    }
   ],
   "source": [
    "%%ai chatgpt\n",
    "The Metropolis-Hasting algorithm explained"
   ]
  },
  {
   "cell_type": "code",
   "execution_count": 12,
   "metadata": {},
   "outputs": [
    {
     "data": {
      "text/markdown": [
       "```python\n",
       "print(\"# Hello, world!\")\n",
       "print(\"This is a sample Python code snippet.\")\n",
       "```"
      ],
      "text/plain": [
       "<IPython.core.display.Markdown object>"
      ]
     },
     "execution_count": 12,
     "metadata": {
      "text/markdown": {
       "jupyter_ai": {
        "model_id": "gpt-3.5-turbo",
        "provider_id": "openai-chat"
       }
      }
     },
     "output_type": "execute_result"
    }
   ],
   "source": [
    "%%ai chatgpt\n",
    "as Python code"
   ]
  },
  {
   "cell_type": "code",
   "execution_count": 13,
   "metadata": {},
   "outputs": [
    {
     "data": {
      "text/markdown": [
       "```markdown\n",
       "Sample: 3\n",
       "```"
      ],
      "text/plain": [
       "<IPython.core.display.Markdown object>"
      ]
     },
     "execution_count": 13,
     "metadata": {
      "text/markdown": {
       "jupyter_ai": {
        "model_id": "gpt-3.5-turbo",
        "provider_id": "openai-chat"
       }
      }
     },
     "output_type": "execute_result"
    }
   ],
   "source": [
    "%%ai chatgpt\n",
    "Draw a sample from S={1,2,3,4,5} using pi = (0.1, 0.1, 0.3, 0.3, 0.2) using MCMC"
   ]
  },
  {
   "cell_type": "code",
   "execution_count": 14,
   "metadata": {},
   "outputs": [
    {
     "data": {
      "text/markdown": [
       "```python\n",
       "print(\"# Hello, this is a header in markdown format\")\n",
       "print(\"This is a paragraph in markdown format\")\n",
       "print(\"- This is a bullet point\")\n",
       "print(\"```python\")\n",
       "print(\"This is a code block in markdown format\")\n",
       "``` \n",
       "```"
      ],
      "text/plain": [
       "<IPython.core.display.Markdown object>"
      ]
     },
     "execution_count": 14,
     "metadata": {
      "text/markdown": {
       "jupyter_ai": {
        "model_id": "gpt-3.5-turbo",
        "provider_id": "openai-chat"
       }
      }
     },
     "output_type": "execute_result"
    }
   ],
   "source": [
    "%%ai chatgpt\n",
    "code in Python"
   ]
  },
  {
   "cell_type": "code",
   "execution_count": 15,
   "metadata": {},
   "outputs": [
    {
     "data": {
      "text/markdown": [
       "- \"Markov Chains: From Theory to Implementation and Experimentation\" by Paul A. Gagniuc\n",
       "- \"Markov Chains: Models, Algorithms and Applications\" by Wai-Ki Ching and Xue-Ming Zhang\n",
       "- \"Markov Chains and Mixing Times\" by David A. Levin, Yuval Peres, and Elizabeth L. Wilmer"
      ],
      "text/plain": [
       "<IPython.core.display.Markdown object>"
      ]
     },
     "execution_count": 15,
     "metadata": {
      "text/markdown": {
       "jupyter_ai": {
        "model_id": "gpt-3.5-turbo",
        "provider_id": "openai-chat"
       }
      }
     },
     "output_type": "execute_result"
    }
   ],
   "source": [
    "%%ai chatgpt\n",
    "Books regarding Mixing time for Markov chains"
   ]
  },
  {
   "cell_type": "code",
   "execution_count": 16,
   "metadata": {},
   "outputs": [
    {
     "data": {
      "text/markdown": [
       "Complex networks are networks with non-trivial topological features, typically characterized by a large number of nodes and edges, as well as complex connectivity patterns. These networks are often used to model various real-world systems, such as social networks, biological networks, and transportation networks. They are studied in the field of network science and have applications in diverse fields including physics, biology, sociology, and computer science."
      ],
      "text/plain": [
       "<IPython.core.display.Markdown object>"
      ]
     },
     "execution_count": 16,
     "metadata": {
      "text/markdown": {
       "jupyter_ai": {
        "model_id": "gpt-3.5-turbo",
        "provider_id": "openai-chat"
       }
      }
     },
     "output_type": "execute_result"
    }
   ],
   "source": [
    "%%ai chatgpt\n",
    "What is complex networks?"
   ]
  },
  {
   "cell_type": "code",
   "execution_count": 17,
   "metadata": {},
   "outputs": [
    {
     "data": {
      "text/markdown": [
       "Complex numbers are numbers that have two parts: a real part and an imaginary part. They are written in the form a + bi, where 'a' is the real part, 'b' is the imaginary part, and 'i' is the imaginary unit (√(-1)). Complex numbers are used in math to solve problems that involve square roots of negative numbers."
      ],
      "text/plain": [
       "<IPython.core.display.Markdown object>"
      ]
     },
     "execution_count": 17,
     "metadata": {
      "text/markdown": {
       "jupyter_ai": {
        "model_id": "gpt-3.5-turbo",
        "provider_id": "openai-chat"
       }
      }
     },
     "output_type": "execute_result"
    }
   ],
   "source": [
    "%%ai chatgpt\n",
    "What are complex numbers? (tell like I'm 12)"
   ]
  },
  {
   "cell_type": "code",
   "execution_count": 18,
   "metadata": {},
   "outputs": [
    {
     "data": {
      "text/markdown": [
       "- The Small-World Phenomenon was discovered by the social psychologist Stanley Milgram in the 1960s."
      ],
      "text/plain": [
       "<IPython.core.display.Markdown object>"
      ]
     },
     "execution_count": 18,
     "metadata": {
      "text/markdown": {
       "jupyter_ai": {
        "model_id": "gpt-3.5-turbo",
        "provider_id": "openai-chat"
       }
      }
     },
     "output_type": "execute_result"
    }
   ],
   "source": [
    "%%ai chatgpt\n",
    "Who discovered the Small-World Phenomenon."
   ]
  },
  {
   "cell_type": "code",
   "execution_count": 19,
   "metadata": {},
   "outputs": [],
   "source": [
    "poet = \"Herman Wildenvey\""
   ]
  },
  {
   "cell_type": "code",
   "execution_count": 20,
   "metadata": {},
   "outputs": [
    {
     "data": {
      "text/markdown": [
       "# Havets sang\n",
       "\n",
       "I det dype, blå havet,\n",
       "der bølgene danser fri,\n",
       "synger havfruer en vakker sang,\n",
       "som bare de kan skape.\n",
       "\n",
       "Månen skinner lys og klar,\n",
       "på det skummende vann,\n",
       "og stjernene glitrer som diamanter,\n",
       "over det uendelige hav.\n",
       "\n",
       "Hør havets sang, \n",
       "som en beroligende melodi,\n",
       "som smyger seg inn i sjelen,\n",
       "og fyller hjertet med glede.\n",
       "\n",
       "La oss drømme om det store havet,\n",
       "og la oss la oss flyte med bølgene,\n",
       "mens vi lytter til havfruenes sang,\n",
       "og føler oss fri som fuglen."
      ],
      "text/plain": [
       "<IPython.core.display.Markdown object>"
      ]
     },
     "execution_count": 20,
     "metadata": {
      "text/markdown": {
       "jupyter_ai": {
        "model_id": "gpt-3.5-turbo",
        "provider_id": "openai-chat"
       }
      }
     },
     "output_type": "execute_result"
    }
   ],
   "source": [
    "%%ai chatgpt \n",
    "Write a poem in the style of {poet} in Norwegian"
   ]
  },
  {
   "cell_type": "code",
   "execution_count": 21,
   "metadata": {
    "scrolled": true
   },
   "outputs": [
    {
     "data": {
      "text/markdown": [
       "```python\n",
       "import numpy as np\n",
       "import matplotlib.pyplot as plt\n",
       "\n",
       "# Constants\n",
       "N = 100  # Number of grid points in each direction\n",
       "L = 1  # Length of the domain\n",
       "dx = L / (N - 1)  # Grid spacing\n",
       "tolerance = 1e-4  # Tolerance for convergence\n",
       "\n",
       "# Initialize potential function\n",
       "phi = np.zeros((N, N))\n",
       "\n",
       "# Boundary conditions\n",
       "phi[0, :] = 0  # Bottom boundary\n",
       "phi[-1, :] = 0  # Top boundary\n",
       "phi[:, 0] = 0  # Left boundary\n",
       "phi[:, -1] = 0  # Right boundary\n",
       "\n",
       "# Gauss-Seidel iteration\n",
       "error = 1\n",
       "while error > tolerance:\n",
       "    old_phi = np.copy(phi)\n",
       "    for i in range(1, N - 1):\n",
       "        for j in range(1, N - 1):\n",
       "            phi[i, j] = 0.25 * (phi[i+1, j] + phi[i-1, j] + phi[i, j+1] + phi[i, j-1])\n",
       "\n",
       "    error = np.max(np.abs(phi - old_phi))\n",
       "\n",
       "# Plotting the solution\n",
       "x = np.linspace(0, L, N)\n",
       "y = np.linspace(0, L, N)\n",
       "X, Y = np.meshgrid(x, y)\n",
       "\n",
       "plt.figure()\n",
       "plt.contourf(X, Y, phi, cmap='viridis')\n",
       "plt.colorbar()\n",
       "plt.xlabel('x')\n",
       "plt.ylabel('y')\n",
       "plt.title('Solution of 2D Laplace Equation')\n",
       "plt.show()\n",
       "```\n",
       "\n",
       "Explanation:\n",
       "- We first define the constants such as the number of grid points `N`, length of the domain `L`, grid spacing `dx`, and tolerance for convergence.\n",
       "- We initialize the potential function `phi` with zeros and set the boundary conditions to zero.\n",
       "- We then perform Gauss-Seidel iteration to solve the Laplace equation iteratively until the solution converges within the specified tolerance.\n",
       "- Finally, we plot the solution using `matplotlib` with a contour plot."
      ],
      "text/plain": [
       "<IPython.core.display.Markdown object>"
      ]
     },
     "execution_count": 21,
     "metadata": {
      "text/markdown": {
       "jupyter_ai": {
        "model_id": "gpt-3.5-turbo",
        "provider_id": "openai-chat"
       }
      }
     },
     "output_type": "execute_result"
    }
   ],
   "source": [
    "%%ai chatgpt \n",
    "Please generate the Python code to solve the 2D Laplace equation in Cartesian coordinates.\n",
    "Solve the equation on the square domain x=(0,1) and y=(0,1) with vanishing boundary conditions.\n",
    "Plot the solution using Matplotlib.\n",
    "Please also provide an explanation."
   ]
  },
  {
   "cell_type": "code",
   "execution_count": 22,
   "metadata": {},
   "outputs": [
    {
     "data": {
      "image/png": "[encoded data removed]",
      "text/plain": [
       "<Figure size 800x600 with 2 Axes>"
      ]
     },
     "metadata": {},
     "output_type": "display_data"
    }
   ],
   "source": [
    "import numpy as np\n",
    "import matplotlib.pyplot as plt\n",
    "\n",
    "# Parameters\n",
    "nx = 50\n",
    "ny = 50\n",
    "dx = 1.0 / (nx - 1)\n",
    "dy = 1.0 / (ny - 1)\n",
    "nt = 1000\n",
    "threshold = 1e-4\n",
    "\n",
    "# Initialize arrays\n",
    "u = np.zeros((ny, nx))\n",
    "\n",
    "# Jacobi iteration\n",
    "for it in range(nt):\n",
    "    un = u.copy()\n",
    "    u[1:-1, 1:-1] = 0.25 * (un[1:-1, 0:-2] + un[1:-1, 2:] + un[0:-2, 1:-1] + un[2:, 1:-1])\n",
    "\n",
    "    # Boundary conditions (vanishing)\n",
    "    u[0, :] = 0\n",
    "    u[-1, :] = 0\n",
    "    u[:, 0] = 0\n",
    "    u[:, -1] = 0\n",
    "\n",
    "    # Check convergence\n",
    "    if np.linalg.norm(u - un) < threshold:\n",
    "        break\n",
    "\n",
    "# Plot the solution\n",
    "x = np.linspace(0, 1, nx)\n",
    "y = np.linspace(0, 1, ny)\n",
    "X, Y = np.meshgrid(x, y)\n",
    "\n",
    "plt.figure(figsize=(8, 6))\n",
    "plt.contourf(X, Y, u, cmap='coolwarm')\n",
    "plt.colorbar()\n",
    "plt.title('2D Laplace Equation Solution')\n",
    "plt.xlabel('x')\n",
    "plt.ylabel('y')\n",
    "plt.show()"
   ]
  },
  {
   "cell_type": "code",
   "execution_count": 35,
   "metadata": {},
   "outputs": [
    {
     "data": {
      "text/html": [
       "AI generated code inserted below &#11015;&#65039;"
      ],
      "text/plain": [
       "<IPython.core.display.HTML object>"
      ]
     },
     "execution_count": 35,
     "metadata": {
      "text/html": {
       "jupyter_ai": {
        "model_id": "gpt-3.5-turbo",
        "provider_id": "openai-chat"
       }
      }
     },
     "output_type": "execute_result"
    }
   ],
   "source": [
    "%%ai chatgpt --format code\n",
    "A program that asks me for my name and then greets me by my name, in Norwegian"
   ]
  },
  {
   "cell_type": "code",
   "execution_count": 36,
   "metadata": {},
   "outputs": [
    {
     "name": "stdout",
     "output_type": "stream",
     "text": [
      "Hei, Per!\n"
     ]
    }
   ],
   "source": [
    "navn = input(\"Hva er navnet ditt? \")\n",
    "print(\"Hei, \" + navn + \"!\")"
   ]
  },
  {
   "cell_type": "code",
   "execution_count": 23,
   "metadata": {},
   "outputs": [
    {
     "data": {
      "text/markdown": [
       "The SIR model is a mathematical model used to study the spread of infectious diseases. It divides the population into three compartments: susceptible (S), infected (I), and recovered (R). The model tracks how individuals move between these compartments over time."
      ],
      "text/plain": [
       "<IPython.core.display.Markdown object>"
      ]
     },
     "execution_count": 23,
     "metadata": {
      "text/markdown": {
       "jupyter_ai": {
        "model_id": "gpt-3.5-turbo",
        "provider_id": "openai-chat"
       }
      }
     },
     "output_type": "execute_result"
    }
   ],
   "source": [
    "%%ai chatgpt\n",
    "What is the SIR model?"
   ]
  },
  {
   "cell_type": "code",
   "execution_count": 24,
   "metadata": {},
   "outputs": [
    {
     "data": {
      "text/html": [
       "AI generated code inserted below &#11015;&#65039;"
      ],
      "text/plain": [
       "<IPython.core.display.HTML object>"
      ]
     },
     "execution_count": 24,
     "metadata": {
      "text/html": {
       "jupyter_ai": {
        "model_id": "gpt-3.5-turbo",
        "provider_id": "openai-chat"
       }
      }
     },
     "output_type": "execute_result"
    }
   ],
   "source": [
    "%%ai chatgpt --format code\n",
    "Can you make a simple implementation of the SIR model in Python?"
   ]
  },
  {
   "cell_type": "code",
   "execution_count": 25,
   "metadata": {},
   "outputs": [
    {
     "data": {
      "image/png": "[encoded data removed]",
      "text/plain": [
       "<Figure size 640x480 with 1 Axes>"
      ]
     },
     "metadata": {},
     "output_type": "display_data"
    }
   ],
   "source": [
    "import numpy as np\n",
    "import matplotlib.pyplot as plt\n",
    "\n",
    "# Parameters\n",
    "beta = 0.3\n",
    "gamma = 0.1\n",
    "N = 1000\n",
    "I0 = 1\n",
    "R0 = 0\n",
    "S0 = N - I0 - R0\n",
    "timesteps = 100\n",
    "\n",
    "# SIR model\n",
    "def SIR_model(S, I, R, beta, gamma):\n",
    "    dS = -beta * S * I / N\n",
    "    dI = beta * S * I / N - gamma * I\n",
    "    dR = gamma * I\n",
    "    return dS, dI, dR\n",
    "\n",
    "# Simulation\n",
    "S = S0\n",
    "I = I0\n",
    "R = R0\n",
    "S_list = [S]\n",
    "I_list = [I]\n",
    "R_list = [R]\n",
    "\n",
    "for _ in range(timesteps):\n",
    "    dS, dI, dR = SIR_model(S, I, R, beta, gamma)\n",
    "    S += dS\n",
    "    I += dI\n",
    "    R += dR\n",
    "    S_list.append(S)\n",
    "    I_list.append(I)\n",
    "    R_list.append(R)\n",
    "\n",
    "# Plotting\n",
    "plt.plot(S_list, label='Susceptible')\n",
    "plt.plot(I_list, label='Infected')\n",
    "plt.plot(R_list, label='Recovered')\n",
    "plt.xlabel('Time')\n",
    "plt.ylabel('Population')\n",
    "plt.legend()\n",
    "plt.show()"
   ]
  },
  {
   "cell_type": "code",
   "execution_count": 26,
   "metadata": {},
   "outputs": [
    {
     "data": {
      "image/png": "[encoded data removed]",
      "text/plain": [
       "<Figure size 1000x600 with 1 Axes>"
      ]
     },
     "metadata": {},
     "output_type": "display_data"
    }
   ],
   "source": [
    "import numpy as np\n",
    "import matplotlib.pyplot as plt\n",
    "\n",
    "# Initial values\n",
    "N = 1000\n",
    "I0 = 1\n",
    "R0 = 0\n",
    "S0 = N - I0 - R0\n",
    "beta = 0.3\n",
    "gamma = 0.1\n",
    "days = 160\n",
    "\n",
    "# SIR model function\n",
    "def sir_model(S, I, R, beta, gamma):\n",
    "    dS = -beta * S * I / N\n",
    "    dI = beta * S * I / N - gamma * I\n",
    "    dR = gamma * I\n",
    "    return dS, dI, dR\n",
    "\n",
    "# Run simulation\n",
    "S, I, R = S0, I0, R0\n",
    "susceptible, infected, recovered = [S], [I], [R]\n",
    "\n",
    "for _ in range(days):\n",
    "    dS, dI, dR = sir_model(S, I, R, beta, gamma)\n",
    "    S += dS\n",
    "    I += dI\n",
    "    R += dR\n",
    "    susceptible.append(S)\n",
    "    infected.append(I)\n",
    "    recovered.append(R)\n",
    "\n",
    "# Plot results\n",
    "plt.figure(figsize=(10, 6))\n",
    "plt.plot(susceptible, label='Susceptible')\n",
    "plt.plot(infected, label='Infected')\n",
    "plt.plot(recovered, label='Recovered')\n",
    "plt.xlabel('Days')\n",
    "plt.ylabel('Population')\n",
    "plt.title('SIR Model Simulation')\n",
    "plt.legend()\n",
    "plt.show()"
   ]
  },
  {
   "cell_type": "code",
   "execution_count": 27,
   "metadata": {},
   "outputs": [
    {
     "data": {
      "image/png": "[encoded data removed]",
      "text/plain": [
       "<Figure size 640x480 with 1 Axes>"
      ]
     },
     "metadata": {},
     "output_type": "display_data"
    }
   ],
   "source": [
    "import numpy as np\n",
    "import matplotlib.pyplot as plt\n",
    "\n",
    "# Parameters\n",
    "beta = 0.3\n",
    "gamma = 0.1\n",
    "N = 1000\n",
    "I0 = 1\n",
    "S0 = N - I0\n",
    "R0 = 0\n",
    "T = 160\n",
    "\n",
    "# SIR model\n",
    "def sir_model(S, I, R, beta, gamma):\n",
    "    dS = -beta * S * I / N\n",
    "    dI = beta * S * I / N - gamma * I\n",
    "    dR = gamma * I\n",
    "    return dS, dI, dR\n",
    "\n",
    "# Simulation\n",
    "S = S0\n",
    "I = I0\n",
    "R = R0\n",
    "susceptible = [S]\n",
    "infected = [I]\n",
    "recovered = [R]\n",
    "\n",
    "for t in range(T):\n",
    "    dS, dI, dR = sir_model(S, I, R, beta, gamma)\n",
    "    S += dS\n",
    "    I += dI\n",
    "    R += dR\n",
    "    susceptible.append(S)\n",
    "    infected.append(I)\n",
    "    recovered.append(R)\n",
    "\n",
    "# Plotting\n",
    "plt.plot(susceptible, label='Susceptible')\n",
    "plt.plot(infected, label='Infected')\n",
    "plt.plot(recovered, label='Recovered')\n",
    "plt.xlabel('Time')\n",
    "plt.ylabel('Population')\n",
    "plt.legend()\n",
    "plt.show()"
   ]
  },
  {
   "cell_type": "code",
   "execution_count": null,
   "metadata": {},
   "outputs": [],
   "source": []
  }
 ],
 "metadata": {
  "kernelspec": {
   "display_name": "Python 3 (ipykernel)",
   "language": "python",
   "name": "python3"
  },
  "language_info": {
   "codemirror_mode": {
    "name": "ipython",
    "version": 3
   },
   "file_extension": ".py",
   "mimetype": "text/x-python",
   "name": "python",
   "nbconvert_exporter": "python",
   "pygments_lexer": "ipython3",
   "version": "3.11.7"
  }
 },
 "nbformat": 4,
 "nbformat_minor": 4
}
